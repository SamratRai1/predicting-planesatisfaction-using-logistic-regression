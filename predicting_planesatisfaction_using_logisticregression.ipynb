{
  "cells": [
    {
      "cell_type": "markdown",
      "metadata": {
        "id": "YQ3UEBOAtLBE"
      },
      "source": [
        "#**Classification TASK**\n"
      ]
    },
    {
      "cell_type": "markdown",
      "metadata": {
        "id": "5UCHM3nXujmz"
      },
      "source": [
        "##Puprose of the program:\n",
        "The purpose of this task is to analyse the dataset containing the data on the satisfaction of airplane passengers. \n",
        "<br><b>The total number of columns in the dataset=24<br>The total number of rows in the dataset=103904</b>"
      ]
    },
    {
      "cell_type": "markdown",
      "metadata": {
        "id": "2xDYgtBUxOwG"
      },
      "source": [
        "##Libraries and functions for the analysis"
      ]
    },
    {
      "cell_type": "code",
      "execution_count": 24,
      "metadata": {
        "id": "S9w3Cz4hh6IR"
      },
      "outputs": [],
      "source": [
        "import pandas as pd\n",
        "import numpy as np\n",
        "import seaborn as sns\n",
        "import math\n",
        "import io\n",
        "from sklearn.linear_model import LogisticRegression\n",
        "from google.colab import files\n",
        "from matplotlib import pyplot as plt\n",
        "from sklearn.model_selection import train_test_split\n",
        "from sklearn.preprocessing import LabelEncoder \n",
        "from sklearn.metrics import confusion_matrix\n",
        "from sklearn.metrics import classification_report\n",
        "from sklearn.metrics import accuracy_score, roc_auc_score, roc_curve\n",
        "import warnings\n",
        "warnings.filterwarnings('ignore')"
      ]
    },
    {
      "cell_type": "markdown",
      "metadata": {
        "id": "vSxA0wWhxWpb"
      },
      "source": [
        "Above are all the libraries that are necessary for the analysis and data representations of the dataset"
      ]
    },
    {
      "cell_type": "markdown",
      "metadata": {
        "id": "5Z1AYM0Pxg0Z"
      },
      "source": [
        "##Uploading the datase"
      ]
    },
    {
      "cell_type": "code",
      "execution_count": 2,
      "metadata": {
        "colab": {
          "base_uri": "https://localhost:8080/",
          "height": 74,
          "resources": {
            "http://localhost:8080/nbextensions/google.colab/files.js": {
              "data": "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",
              "headers": [
                [
                  "content-type",
                  "application/javascript"
                ]
              ],
              "ok": true,
              "status": 200,
              "status_text": ""
            }
          }
        },
        "id": "bSn2nq6QiBEo",
        "outputId": "64f3b317-915f-4449-d043-f28336d0e3b4"
      },
      "outputs": [
        {
          "data": {
            "text/html": [
              "\n",
              "     <input type=\"file\" id=\"files-bd453269-b6b4-42ca-85bd-355d15eafb22\" name=\"files[]\" multiple disabled\n",
              "        style=\"border:none\" />\n",
              "     <output id=\"result-bd453269-b6b4-42ca-85bd-355d15eafb22\">\n",
              "      Upload widget is only available when the cell has been executed in the\n",
              "      current browser session. Please rerun this cell to enable.\n",
              "      </output>\n",
              "      <script src=\"/nbextensions/google.colab/files.js\"></script> "
            ],
            "text/plain": [
              "<IPython.core.display.HTML object>"
            ]
          },
          "metadata": {},
          "output_type": "display_data"
        },
        {
          "name": "stdout",
          "output_type": "stream",
          "text": [
            "Saving planesatisfaction.csv to planesatisfaction.csv\n"
          ]
        }
      ],
      "source": [
        "uploaded = files.upload()"
      ]
    },
    {
      "cell_type": "code",
      "execution_count": 3,
      "metadata": {
        "colab": {
          "base_uri": "https://localhost:8080/",
          "height": 374
        },
        "id": "3LZpWgPmiTZT",
        "outputId": "be49f257-9cd7-4227-9821-869c43def1fe"
      },
      "outputs": [
        {
          "data": {
            "text/html": [
              "\n",
              "  <div id=\"df-aceece24-2db1-42dc-a6a3-bcfd1843e8fd\">\n",
              "    <div class=\"colab-df-container\">\n",
              "      <div>\n",
              "<style scoped>\n",
              "    .dataframe tbody tr th:only-of-type {\n",
              "        vertical-align: middle;\n",
              "    }\n",
              "\n",
              "    .dataframe tbody tr th {\n",
              "        vertical-align: top;\n",
              "    }\n",
              "\n",
              "    .dataframe thead th {\n",
              "        text-align: right;\n",
              "    }\n",
              "</style>\n",
              "<table border=\"1\" class=\"dataframe\">\n",
              "  <thead>\n",
              "    <tr style=\"text-align: right;\">\n",
              "      <th></th>\n",
              "      <th>Unnamed: 0</th>\n",
              "      <th>id</th>\n",
              "      <th>Gender</th>\n",
              "      <th>CustomerType</th>\n",
              "      <th>Age</th>\n",
              "      <th>TypeofTravel</th>\n",
              "      <th>Class</th>\n",
              "      <th>FlightDistance</th>\n",
              "      <th>Inflightwifiservice</th>\n",
              "      <th>Departure/Arrivaltimeconvenient</th>\n",
              "      <th>EaseofOnlinebooking</th>\n",
              "      <th>Gatelocation</th>\n",
              "      <th>Foodanddrink</th>\n",
              "      <th>Onlineboarding</th>\n",
              "      <th>Seatcomfort</th>\n",
              "      <th>Inflightentertainment</th>\n",
              "      <th>On-boardservice</th>\n",
              "      <th>Legroomservice</th>\n",
              "      <th>Baggagehandling</th>\n",
              "      <th>Checkinservice</th>\n",
              "      <th>Inflightservice</th>\n",
              "      <th>Cleanliness</th>\n",
              "      <th>DepartureDelayinMinutes</th>\n",
              "      <th>ArrivalDelayinMinutes</th>\n",
              "      <th>satisfaction</th>\n",
              "    </tr>\n",
              "  </thead>\n",
              "  <tbody>\n",
              "    <tr>\n",
              "      <th>0</th>\n",
              "      <td>0</td>\n",
              "      <td>70172</td>\n",
              "      <td>Male</td>\n",
              "      <td>Loyal Customer</td>\n",
              "      <td>13</td>\n",
              "      <td>Personal Travel</td>\n",
              "      <td>Eco Plus</td>\n",
              "      <td>460</td>\n",
              "      <td>3</td>\n",
              "      <td>4</td>\n",
              "      <td>3</td>\n",
              "      <td>1</td>\n",
              "      <td>5</td>\n",
              "      <td>3</td>\n",
              "      <td>5</td>\n",
              "      <td>5</td>\n",
              "      <td>4</td>\n",
              "      <td>3</td>\n",
              "      <td>4</td>\n",
              "      <td>4</td>\n",
              "      <td>5</td>\n",
              "      <td>5</td>\n",
              "      <td>25</td>\n",
              "      <td>18.0</td>\n",
              "      <td>neutral or dissatisfied</td>\n",
              "    </tr>\n",
              "    <tr>\n",
              "      <th>1</th>\n",
              "      <td>1</td>\n",
              "      <td>5047</td>\n",
              "      <td>Male</td>\n",
              "      <td>disloyal Customer</td>\n",
              "      <td>25</td>\n",
              "      <td>Business travel</td>\n",
              "      <td>Business</td>\n",
              "      <td>235</td>\n",
              "      <td>3</td>\n",
              "      <td>2</td>\n",
              "      <td>3</td>\n",
              "      <td>3</td>\n",
              "      <td>1</td>\n",
              "      <td>3</td>\n",
              "      <td>1</td>\n",
              "      <td>1</td>\n",
              "      <td>1</td>\n",
              "      <td>5</td>\n",
              "      <td>3</td>\n",
              "      <td>1</td>\n",
              "      <td>4</td>\n",
              "      <td>1</td>\n",
              "      <td>1</td>\n",
              "      <td>6.0</td>\n",
              "      <td>neutral or dissatisfied</td>\n",
              "    </tr>\n",
              "    <tr>\n",
              "      <th>2</th>\n",
              "      <td>2</td>\n",
              "      <td>110028</td>\n",
              "      <td>Female</td>\n",
              "      <td>Loyal Customer</td>\n",
              "      <td>26</td>\n",
              "      <td>Business travel</td>\n",
              "      <td>Business</td>\n",
              "      <td>1142</td>\n",
              "      <td>2</td>\n",
              "      <td>2</td>\n",
              "      <td>2</td>\n",
              "      <td>2</td>\n",
              "      <td>5</td>\n",
              "      <td>5</td>\n",
              "      <td>5</td>\n",
              "      <td>5</td>\n",
              "      <td>4</td>\n",
              "      <td>3</td>\n",
              "      <td>4</td>\n",
              "      <td>4</td>\n",
              "      <td>4</td>\n",
              "      <td>5</td>\n",
              "      <td>0</td>\n",
              "      <td>0.0</td>\n",
              "      <td>satisfied</td>\n",
              "    </tr>\n",
              "    <tr>\n",
              "      <th>3</th>\n",
              "      <td>3</td>\n",
              "      <td>24026</td>\n",
              "      <td>Female</td>\n",
              "      <td>Loyal Customer</td>\n",
              "      <td>25</td>\n",
              "      <td>Business travel</td>\n",
              "      <td>Business</td>\n",
              "      <td>562</td>\n",
              "      <td>2</td>\n",
              "      <td>5</td>\n",
              "      <td>5</td>\n",
              "      <td>5</td>\n",
              "      <td>2</td>\n",
              "      <td>2</td>\n",
              "      <td>2</td>\n",
              "      <td>2</td>\n",
              "      <td>2</td>\n",
              "      <td>5</td>\n",
              "      <td>3</td>\n",
              "      <td>1</td>\n",
              "      <td>4</td>\n",
              "      <td>2</td>\n",
              "      <td>11</td>\n",
              "      <td>9.0</td>\n",
              "      <td>neutral or dissatisfied</td>\n",
              "    </tr>\n",
              "    <tr>\n",
              "      <th>4</th>\n",
              "      <td>4</td>\n",
              "      <td>119299</td>\n",
              "      <td>Male</td>\n",
              "      <td>Loyal Customer</td>\n",
              "      <td>61</td>\n",
              "      <td>Business travel</td>\n",
              "      <td>Business</td>\n",
              "      <td>214</td>\n",
              "      <td>3</td>\n",
              "      <td>3</td>\n",
              "      <td>3</td>\n",
              "      <td>3</td>\n",
              "      <td>4</td>\n",
              "      <td>5</td>\n",
              "      <td>5</td>\n",
              "      <td>3</td>\n",
              "      <td>3</td>\n",
              "      <td>4</td>\n",
              "      <td>4</td>\n",
              "      <td>3</td>\n",
              "      <td>3</td>\n",
              "      <td>3</td>\n",
              "      <td>0</td>\n",
              "      <td>0.0</td>\n",
              "      <td>satisfied</td>\n",
              "    </tr>\n",
              "  </tbody>\n",
              "</table>\n",
              "</div>\n",
              "      <button class=\"colab-df-convert\" onclick=\"convertToInteractive('df-aceece24-2db1-42dc-a6a3-bcfd1843e8fd')\"\n",
              "              title=\"Convert this dataframe to an interactive table.\"\n",
              "              style=\"display:none;\">\n",
              "        \n",
              "  <svg xmlns=\"http://www.w3.org/2000/svg\" height=\"24px\"viewBox=\"0 0 24 24\"\n",
              "       width=\"24px\">\n",
              "    <path d=\"M0 0h24v24H0V0z\" fill=\"none\"/>\n",
              "    <path d=\"M18.56 5.44l.94 2.06.94-2.06 2.06-.94-2.06-.94-.94-2.06-.94 2.06-2.06.94zm-11 1L8.5 8.5l.94-2.06 2.06-.94-2.06-.94L8.5 2.5l-.94 2.06-2.06.94zm10 10l.94 2.06.94-2.06 2.06-.94-2.06-.94-.94-2.06-.94 2.06-2.06.94z\"/><path d=\"M17.41 7.96l-1.37-1.37c-.4-.4-.92-.59-1.43-.59-.52 0-1.04.2-1.43.59L10.3 9.45l-7.72 7.72c-.78.78-.78 2.05 0 2.83L4 21.41c.39.39.9.59 1.41.59.51 0 1.02-.2 1.41-.59l7.78-7.78 2.81-2.81c.8-.78.8-2.07 0-2.86zM5.41 20L4 18.59l7.72-7.72 1.47 1.35L5.41 20z\"/>\n",
              "  </svg>\n",
              "      </button>\n",
              "      \n",
              "  <style>\n",
              "    .colab-df-container {\n",
              "      display:flex;\n",
              "      flex-wrap:wrap;\n",
              "      gap: 12px;\n",
              "    }\n",
              "\n",
              "    .colab-df-convert {\n",
              "      background-color: #E8F0FE;\n",
              "      border: none;\n",
              "      border-radius: 50%;\n",
              "      cursor: pointer;\n",
              "      display: none;\n",
              "      fill: #1967D2;\n",
              "      height: 32px;\n",
              "      padding: 0 0 0 0;\n",
              "      width: 32px;\n",
              "    }\n",
              "\n",
              "    .colab-df-convert:hover {\n",
              "      background-color: #E2EBFA;\n",
              "      box-shadow: 0px 1px 2px rgba(60, 64, 67, 0.3), 0px 1px 3px 1px rgba(60, 64, 67, 0.15);\n",
              "      fill: #174EA6;\n",
              "    }\n",
              "\n",
              "    [theme=dark] .colab-df-convert {\n",
              "      background-color: #3B4455;\n",
              "      fill: #D2E3FC;\n",
              "    }\n",
              "\n",
              "    [theme=dark] .colab-df-convert:hover {\n",
              "      background-color: #434B5C;\n",
              "      box-shadow: 0px 1px 3px 1px rgba(0, 0, 0, 0.15);\n",
              "      filter: drop-shadow(0px 1px 2px rgba(0, 0, 0, 0.3));\n",
              "      fill: #FFFFFF;\n",
              "    }\n",
              "  </style>\n",
              "\n",
              "      <script>\n",
              "        const buttonEl =\n",
              "          document.querySelector('#df-aceece24-2db1-42dc-a6a3-bcfd1843e8fd button.colab-df-convert');\n",
              "        buttonEl.style.display =\n",
              "          google.colab.kernel.accessAllowed ? 'block' : 'none';\n",
              "\n",
              "        async function convertToInteractive(key) {\n",
              "          const element = document.querySelector('#df-aceece24-2db1-42dc-a6a3-bcfd1843e8fd');\n",
              "          const dataTable =\n",
              "            await google.colab.kernel.invokeFunction('convertToInteractive',\n",
              "                                                     [key], {});\n",
              "          if (!dataTable) return;\n",
              "\n",
              "          const docLinkHtml = 'Like what you see? Visit the ' +\n",
              "            '<a target=\"_blank\" href=https://colab.research.google.com/notebooks/data_table.ipynb>data table notebook</a>'\n",
              "            + ' to learn more about interactive tables.';\n",
              "          element.innerHTML = '';\n",
              "          dataTable['output_type'] = 'display_data';\n",
              "          await google.colab.output.renderOutput(dataTable, element);\n",
              "          const docLink = document.createElement('div');\n",
              "          docLink.innerHTML = docLinkHtml;\n",
              "          element.appendChild(docLink);\n",
              "        }\n",
              "      </script>\n",
              "    </div>\n",
              "  </div>\n",
              "  "
            ],
            "text/plain": [
              "   Unnamed: 0      id  ... ArrivalDelayinMinutes             satisfaction\n",
              "0           0   70172  ...                  18.0  neutral or dissatisfied\n",
              "1           1    5047  ...                   6.0  neutral or dissatisfied\n",
              "2           2  110028  ...                   0.0                satisfied\n",
              "3           3   24026  ...                   9.0  neutral or dissatisfied\n",
              "4           4  119299  ...                   0.0                satisfied\n",
              "\n",
              "[5 rows x 25 columns]"
            ]
          },
          "execution_count": 3,
          "metadata": {},
          "output_type": "execute_result"
        }
      ],
      "source": [
        "\n",
        "data = pd.read_csv(io.BytesIO(uploaded['planesatisfaction.csv']))\n",
        "data.head()"
      ]
    },
    {
      "cell_type": "code",
      "execution_count": 4,
      "metadata": {
        "colab": {
          "base_uri": "https://localhost:8080/"
        },
        "id": "Jofb9bL6wwIx",
        "outputId": "60597187-508e-47aa-c22a-b75618747f24"
      },
      "outputs": [
        {
          "data": {
            "text/plain": [
              "(103904, 25)"
            ]
          },
          "execution_count": 4,
          "metadata": {},
          "output_type": "execute_result"
        }
      ],
      "source": [
        "data.shape"
      ]
    },
    {
      "cell_type": "markdown",
      "metadata": {
        "id": "MEIX-8KiyDZk"
      },
      "source": [
        "We can find out that there are 23 attributes and 103904"
      ]
    },
    {
      "cell_type": "code",
      "execution_count": 5,
      "metadata": {
        "id": "St06Er37iV2X"
      },
      "outputs": [],
      "source": [
        "df = data\n",
        "df.drop(['Unnamed: 0','id'], axis=1, inplace=True)"
      ]
    },
    {
      "cell_type": "markdown",
      "metadata": {
        "id": "QTRHr_AYyjhW"
      },
      "source": [
        "Data is copied into another variable. And, unnamed column is removed because it only provides the rows in the dataset"
      ]
    },
    {
      "cell_type": "code",
      "execution_count": 6,
      "metadata": {
        "colab": {
          "base_uri": "https://localhost:8080/",
          "height": 374
        },
        "id": "y454F3ByiWf8",
        "outputId": "2d8e0970-0b3d-4817-e24a-c118fec85827"
      },
      "outputs": [
        {
          "data": {
            "text/html": [
              "\n",
              "  <div id=\"df-0c699cec-0ca1-4b6d-b98f-97d5d1006105\">\n",
              "    <div class=\"colab-df-container\">\n",
              "      <div>\n",
              "<style scoped>\n",
              "    .dataframe tbody tr th:only-of-type {\n",
              "        vertical-align: middle;\n",
              "    }\n",
              "\n",
              "    .dataframe tbody tr th {\n",
              "        vertical-align: top;\n",
              "    }\n",
              "\n",
              "    .dataframe thead th {\n",
              "        text-align: right;\n",
              "    }\n",
              "</style>\n",
              "<table border=\"1\" class=\"dataframe\">\n",
              "  <thead>\n",
              "    <tr style=\"text-align: right;\">\n",
              "      <th></th>\n",
              "      <th>Gender</th>\n",
              "      <th>CustomerType</th>\n",
              "      <th>Age</th>\n",
              "      <th>TypeofTravel</th>\n",
              "      <th>Class</th>\n",
              "      <th>FlightDistance</th>\n",
              "      <th>Inflightwifiservice</th>\n",
              "      <th>Departure/Arrivaltimeconvenient</th>\n",
              "      <th>EaseofOnlinebooking</th>\n",
              "      <th>Gatelocation</th>\n",
              "      <th>Foodanddrink</th>\n",
              "      <th>Onlineboarding</th>\n",
              "      <th>Seatcomfort</th>\n",
              "      <th>Inflightentertainment</th>\n",
              "      <th>On-boardservice</th>\n",
              "      <th>Legroomservice</th>\n",
              "      <th>Baggagehandling</th>\n",
              "      <th>Checkinservice</th>\n",
              "      <th>Inflightservice</th>\n",
              "      <th>Cleanliness</th>\n",
              "      <th>DepartureDelayinMinutes</th>\n",
              "      <th>ArrivalDelayinMinutes</th>\n",
              "      <th>satisfaction</th>\n",
              "    </tr>\n",
              "  </thead>\n",
              "  <tbody>\n",
              "    <tr>\n",
              "      <th>0</th>\n",
              "      <td>Male</td>\n",
              "      <td>Loyal Customer</td>\n",
              "      <td>13</td>\n",
              "      <td>Personal Travel</td>\n",
              "      <td>Eco Plus</td>\n",
              "      <td>460</td>\n",
              "      <td>3</td>\n",
              "      <td>4</td>\n",
              "      <td>3</td>\n",
              "      <td>1</td>\n",
              "      <td>5</td>\n",
              "      <td>3</td>\n",
              "      <td>5</td>\n",
              "      <td>5</td>\n",
              "      <td>4</td>\n",
              "      <td>3</td>\n",
              "      <td>4</td>\n",
              "      <td>4</td>\n",
              "      <td>5</td>\n",
              "      <td>5</td>\n",
              "      <td>25</td>\n",
              "      <td>18.0</td>\n",
              "      <td>neutral or dissatisfied</td>\n",
              "    </tr>\n",
              "    <tr>\n",
              "      <th>1</th>\n",
              "      <td>Male</td>\n",
              "      <td>disloyal Customer</td>\n",
              "      <td>25</td>\n",
              "      <td>Business travel</td>\n",
              "      <td>Business</td>\n",
              "      <td>235</td>\n",
              "      <td>3</td>\n",
              "      <td>2</td>\n",
              "      <td>3</td>\n",
              "      <td>3</td>\n",
              "      <td>1</td>\n",
              "      <td>3</td>\n",
              "      <td>1</td>\n",
              "      <td>1</td>\n",
              "      <td>1</td>\n",
              "      <td>5</td>\n",
              "      <td>3</td>\n",
              "      <td>1</td>\n",
              "      <td>4</td>\n",
              "      <td>1</td>\n",
              "      <td>1</td>\n",
              "      <td>6.0</td>\n",
              "      <td>neutral or dissatisfied</td>\n",
              "    </tr>\n",
              "    <tr>\n",
              "      <th>2</th>\n",
              "      <td>Female</td>\n",
              "      <td>Loyal Customer</td>\n",
              "      <td>26</td>\n",
              "      <td>Business travel</td>\n",
              "      <td>Business</td>\n",
              "      <td>1142</td>\n",
              "      <td>2</td>\n",
              "      <td>2</td>\n",
              "      <td>2</td>\n",
              "      <td>2</td>\n",
              "      <td>5</td>\n",
              "      <td>5</td>\n",
              "      <td>5</td>\n",
              "      <td>5</td>\n",
              "      <td>4</td>\n",
              "      <td>3</td>\n",
              "      <td>4</td>\n",
              "      <td>4</td>\n",
              "      <td>4</td>\n",
              "      <td>5</td>\n",
              "      <td>0</td>\n",
              "      <td>0.0</td>\n",
              "      <td>satisfied</td>\n",
              "    </tr>\n",
              "    <tr>\n",
              "      <th>3</th>\n",
              "      <td>Female</td>\n",
              "      <td>Loyal Customer</td>\n",
              "      <td>25</td>\n",
              "      <td>Business travel</td>\n",
              "      <td>Business</td>\n",
              "      <td>562</td>\n",
              "      <td>2</td>\n",
              "      <td>5</td>\n",
              "      <td>5</td>\n",
              "      <td>5</td>\n",
              "      <td>2</td>\n",
              "      <td>2</td>\n",
              "      <td>2</td>\n",
              "      <td>2</td>\n",
              "      <td>2</td>\n",
              "      <td>5</td>\n",
              "      <td>3</td>\n",
              "      <td>1</td>\n",
              "      <td>4</td>\n",
              "      <td>2</td>\n",
              "      <td>11</td>\n",
              "      <td>9.0</td>\n",
              "      <td>neutral or dissatisfied</td>\n",
              "    </tr>\n",
              "    <tr>\n",
              "      <th>4</th>\n",
              "      <td>Male</td>\n",
              "      <td>Loyal Customer</td>\n",
              "      <td>61</td>\n",
              "      <td>Business travel</td>\n",
              "      <td>Business</td>\n",
              "      <td>214</td>\n",
              "      <td>3</td>\n",
              "      <td>3</td>\n",
              "      <td>3</td>\n",
              "      <td>3</td>\n",
              "      <td>4</td>\n",
              "      <td>5</td>\n",
              "      <td>5</td>\n",
              "      <td>3</td>\n",
              "      <td>3</td>\n",
              "      <td>4</td>\n",
              "      <td>4</td>\n",
              "      <td>3</td>\n",
              "      <td>3</td>\n",
              "      <td>3</td>\n",
              "      <td>0</td>\n",
              "      <td>0.0</td>\n",
              "      <td>satisfied</td>\n",
              "    </tr>\n",
              "  </tbody>\n",
              "</table>\n",
              "</div>\n",
              "      <button class=\"colab-df-convert\" onclick=\"convertToInteractive('df-0c699cec-0ca1-4b6d-b98f-97d5d1006105')\"\n",
              "              title=\"Convert this dataframe to an interactive table.\"\n",
              "              style=\"display:none;\">\n",
              "        \n",
              "  <svg xmlns=\"http://www.w3.org/2000/svg\" height=\"24px\"viewBox=\"0 0 24 24\"\n",
              "       width=\"24px\">\n",
              "    <path d=\"M0 0h24v24H0V0z\" fill=\"none\"/>\n",
              "    <path d=\"M18.56 5.44l.94 2.06.94-2.06 2.06-.94-2.06-.94-.94-2.06-.94 2.06-2.06.94zm-11 1L8.5 8.5l.94-2.06 2.06-.94-2.06-.94L8.5 2.5l-.94 2.06-2.06.94zm10 10l.94 2.06.94-2.06 2.06-.94-2.06-.94-.94-2.06-.94 2.06-2.06.94z\"/><path d=\"M17.41 7.96l-1.37-1.37c-.4-.4-.92-.59-1.43-.59-.52 0-1.04.2-1.43.59L10.3 9.45l-7.72 7.72c-.78.78-.78 2.05 0 2.83L4 21.41c.39.39.9.59 1.41.59.51 0 1.02-.2 1.41-.59l7.78-7.78 2.81-2.81c.8-.78.8-2.07 0-2.86zM5.41 20L4 18.59l7.72-7.72 1.47 1.35L5.41 20z\"/>\n",
              "  </svg>\n",
              "      </button>\n",
              "      \n",
              "  <style>\n",
              "    .colab-df-container {\n",
              "      display:flex;\n",
              "      flex-wrap:wrap;\n",
              "      gap: 12px;\n",
              "    }\n",
              "\n",
              "    .colab-df-convert {\n",
              "      background-color: #E8F0FE;\n",
              "      border: none;\n",
              "      border-radius: 50%;\n",
              "      cursor: pointer;\n",
              "      display: none;\n",
              "      fill: #1967D2;\n",
              "      height: 32px;\n",
              "      padding: 0 0 0 0;\n",
              "      width: 32px;\n",
              "    }\n",
              "\n",
              "    .colab-df-convert:hover {\n",
              "      background-color: #E2EBFA;\n",
              "      box-shadow: 0px 1px 2px rgba(60, 64, 67, 0.3), 0px 1px 3px 1px rgba(60, 64, 67, 0.15);\n",
              "      fill: #174EA6;\n",
              "    }\n",
              "\n",
              "    [theme=dark] .colab-df-convert {\n",
              "      background-color: #3B4455;\n",
              "      fill: #D2E3FC;\n",
              "    }\n",
              "\n",
              "    [theme=dark] .colab-df-convert:hover {\n",
              "      background-color: #434B5C;\n",
              "      box-shadow: 0px 1px 3px 1px rgba(0, 0, 0, 0.15);\n",
              "      filter: drop-shadow(0px 1px 2px rgba(0, 0, 0, 0.3));\n",
              "      fill: #FFFFFF;\n",
              "    }\n",
              "  </style>\n",
              "\n",
              "      <script>\n",
              "        const buttonEl =\n",
              "          document.querySelector('#df-0c699cec-0ca1-4b6d-b98f-97d5d1006105 button.colab-df-convert');\n",
              "        buttonEl.style.display =\n",
              "          google.colab.kernel.accessAllowed ? 'block' : 'none';\n",
              "\n",
              "        async function convertToInteractive(key) {\n",
              "          const element = document.querySelector('#df-0c699cec-0ca1-4b6d-b98f-97d5d1006105');\n",
              "          const dataTable =\n",
              "            await google.colab.kernel.invokeFunction('convertToInteractive',\n",
              "                                                     [key], {});\n",
              "          if (!dataTable) return;\n",
              "\n",
              "          const docLinkHtml = 'Like what you see? Visit the ' +\n",
              "            '<a target=\"_blank\" href=https://colab.research.google.com/notebooks/data_table.ipynb>data table notebook</a>'\n",
              "            + ' to learn more about interactive tables.';\n",
              "          element.innerHTML = '';\n",
              "          dataTable['output_type'] = 'display_data';\n",
              "          await google.colab.output.renderOutput(dataTable, element);\n",
              "          const docLink = document.createElement('div');\n",
              "          docLink.innerHTML = docLinkHtml;\n",
              "          element.appendChild(docLink);\n",
              "        }\n",
              "      </script>\n",
              "    </div>\n",
              "  </div>\n",
              "  "
            ],
            "text/plain": [
              "   Gender       CustomerType  ...  ArrivalDelayinMinutes             satisfaction\n",
              "0    Male     Loyal Customer  ...                   18.0  neutral or dissatisfied\n",
              "1    Male  disloyal Customer  ...                    6.0  neutral or dissatisfied\n",
              "2  Female     Loyal Customer  ...                    0.0                satisfied\n",
              "3  Female     Loyal Customer  ...                    9.0  neutral or dissatisfied\n",
              "4    Male     Loyal Customer  ...                    0.0                satisfied\n",
              "\n",
              "[5 rows x 23 columns]"
            ]
          },
          "execution_count": 6,
          "metadata": {},
          "output_type": "execute_result"
        }
      ],
      "source": [
        "df.head()"
      ]
    },
    {
      "cell_type": "markdown",
      "metadata": {
        "id": "901f4MdNzOBd"
      },
      "source": [
        "##Brief summary of raw data"
      ]
    },
    {
      "cell_type": "code",
      "execution_count": 7,
      "metadata": {
        "colab": {
          "base_uri": "https://localhost:8080/"
        },
        "id": "8qfX22J1zQ9l",
        "outputId": "06afa4ba-0466-4948-985f-62646bc2a265"
      },
      "outputs": [
        {
          "name": "stdout",
          "output_type": "stream",
          "text": [
            "<class 'pandas.core.frame.DataFrame'>\n",
            "RangeIndex: 103904 entries, 0 to 103903\n",
            "Data columns (total 23 columns):\n",
            " #   Column                           Non-Null Count   Dtype  \n",
            "---  ------                           --------------   -----  \n",
            " 0   Gender                           103904 non-null  object \n",
            " 1   CustomerType                     103904 non-null  object \n",
            " 2   Age                              103904 non-null  int64  \n",
            " 3   TypeofTravel                     103904 non-null  object \n",
            " 4   Class                            103904 non-null  object \n",
            " 5   FlightDistance                   103904 non-null  int64  \n",
            " 6   Inflightwifiservice              103904 non-null  int64  \n",
            " 7   Departure/Arrivaltimeconvenient  103904 non-null  int64  \n",
            " 8   EaseofOnlinebooking              103904 non-null  int64  \n",
            " 9   Gatelocation                     103904 non-null  int64  \n",
            " 10  Foodanddrink                     103904 non-null  int64  \n",
            " 11  Onlineboarding                   103904 non-null  int64  \n",
            " 12  Seatcomfort                      103904 non-null  int64  \n",
            " 13  Inflightentertainment            103904 non-null  int64  \n",
            " 14  On-boardservice                  103904 non-null  int64  \n",
            " 15  Legroomservice                   103904 non-null  int64  \n",
            " 16  Baggagehandling                  103904 non-null  int64  \n",
            " 17  Checkinservice                   103904 non-null  int64  \n",
            " 18  Inflightservice                  103904 non-null  int64  \n",
            " 19  Cleanliness                      103904 non-null  int64  \n",
            " 20  DepartureDelayinMinutes          103904 non-null  int64  \n",
            " 21  ArrivalDelayinMinutes            103594 non-null  float64\n",
            " 22  satisfaction                     103904 non-null  object \n",
            "dtypes: float64(1), int64(17), object(5)\n",
            "memory usage: 18.2+ MB\n"
          ]
        }
      ],
      "source": [
        "df.info()"
      ]
    },
    {
      "cell_type": "markdown",
      "metadata": {
        "id": "fc8En20M0CBE"
      },
      "source": [
        "From this, we can learn that all of the columns don't contain any null values. And that, gender, customerType, TypeofTravel, Class and satisfaction are of object datatypy, arrivaldelayinminutes are of float data type and the rest are of int data types"
      ]
    },
    {
      "cell_type": "code",
      "execution_count": 8,
      "metadata": {
        "colab": {
          "base_uri": "https://localhost:8080/"
        },
        "id": "FLmYlnHhPWH7",
        "outputId": "ec7b5244-cb86-42ae-f836-07263543482a"
      },
      "outputs": [
        {
          "data": {
            "text/plain": [
              "0"
            ]
          },
          "execution_count": 8,
          "metadata": {},
          "output_type": "execute_result"
        }
      ],
      "source": [
        "df.duplicated().sum()"
      ]
    },
    {
      "cell_type": "markdown",
      "metadata": {
        "id": "ykLPlpG8PdDv"
      },
      "source": [
        "From this, we can learn that there is no duplicated rows in df dataset"
      ]
    },
    {
      "cell_type": "markdown",
      "metadata": {
        "id": "D4xS4I2k2Di1"
      },
      "source": [
        "##Analyzing dataset and Visualizing them"
      ]
    },
    {
      "cell_type": "markdown",
      "metadata": {
        "id": "hn20jfzf3CFm"
      },
      "source": [
        "###Visualizing Categorical Data"
      ]
    },
    {
      "cell_type": "code",
      "execution_count": 9,
      "metadata": {
        "colab": {
          "base_uri": "https://localhost:8080/",
          "height": 1000
        },
        "id": "rlMmudwq3G9c",
        "outputId": "f24ec5e3-f05c-45e9-e6d6-0f00754ec9bf"
      },
      "outputs": [
        {
          "data": {
            "image/png": "[encoded data removed]",
            "text/plain": [
              "<Figure size 600x300 with 1 Axes>"
            ]
          },
          "metadata": {
            "needs_background": "light"
          },
          "output_type": "display_data"
        },
        {
          "data": {
            "image/png": "[encoded data removed]",
            "text/plain": [
              "<Figure size 600x300 with 1 Axes>"
            ]
          },
          "metadata": {
            "needs_background": "light"
          },
          "output_type": "display_data"
        },
        {
          "data": {
            "image/png": "[encoded data removed]",
            "text/plain": [
              "<Figure size 600x300 with 1 Axes>"
            ]
          },
          "metadata": {
            "needs_background": "light"
          },
          "output_type": "display_data"
        },
        {
          "data": {
            "image/png": "[encoded data removed]",
            "text/plain": [
              "<Figure size 600x300 with 1 Axes>"
            ]
          },
          "metadata": {
            "needs_background": "light"
          },
          "output_type": "display_data"
        }
      ],
      "source": [
        "categorical=['Gender', 'CustomerType', 'TypeofTravel', 'Class']\n",
        "for col in categorical:\n",
        "    plt.figure(figsize=(6,3), dpi=100)\n",
        "    sns.countplot(data=df,x=col,hue ='satisfaction',palette='gist_rainbow_r')\n",
        "    plt.legend(loc=(1.05,0.5))"
      ]
    },
    {
      "cell_type": "markdown",
      "metadata": {
        "id": "niIXGLmy6dpi"
      },
      "source": [
        "<b>Gender</b>: We can observe that the difference between neutral or dissatified and satisfied ratio is same i.e. the satisfied reviews are lesser than neutral or dissatisfied reviews.\n",
        "<br><b>Customer Type</b>: Loyal passengers are very high in number. Even among loyal passengers, the ratio of satisfied and dissatidfied ones are same as general in whichthe neutral or dissatisfied rate is higher than satisfied ratio.\n",
        "<br><b>Type of travel</b>: Here, we can clearly observe that neutral or dissatisfied ration is very high in personal travel but the satisfied reviews are few. While, in Business travel the satisfied reviews are larger than the neutral or dissatisfied reviews.\n",
        "<br><b>Class</b>: Here, we can observe that ratio of neutral or dissatisfied reviews in Eco and Eco plus class are higher than the ratio of their satisfied reviews. But, in Butsiness class the rate of satisified reviews are hugely higher than the rate of neutral or dissatisfied reviews."
      ]
    },
    {
      "cell_type": "code",
      "execution_count": 10,
      "metadata": {
        "colab": {
          "base_uri": "https://localhost:8080/",
          "height": 266
        },
        "id": "idBKiGT8D54w",
        "outputId": "e2019d18-6fcf-4eb2-eaa4-d928f612c4c2"
      },
      "outputs": [
        {
          "data": {
            "image/png": "[encoded data removed]",
            "text/plain": [
              "<Figure size 432x288 with 1 Axes>"
            ]
          },
          "metadata": {},
          "output_type": "display_data"
        }
      ],
      "source": [
        "plt.pie(data.satisfaction.value_counts(), labels = [\"Neutral or dissatisfied\", \"Satisfied\"], colors = sns.color_palette(\"YlOrBr\"), autopct = '%1.1f%%')\n",
        "pass\n",
        "plt.title(\"Satisfaction percent\",fontsize=15)\n",
        "plt.figsize=(500,500)\n"
      ]
    },
    {
      "cell_type": "markdown",
      "metadata": {
        "id": "vfT9HKryD8Hi"
      },
      "source": [
        "  From the above pie chart, we can observe that the rate of satisfied reviews is lesser than rate of neutral or dissatisfied reviews."
      ]
    },
    {
      "cell_type": "code",
      "execution_count": null,
      "metadata": {
        "id": "XhvMkkCNFoXX"
      },
      "outputs": [],
      "source": []
    },
    {
      "cell_type": "markdown",
      "metadata": {
        "id": "5qHuiTDZCPmT"
      },
      "source": [
        "###Visualizing Numerical Data"
      ]
    },
    {
      "cell_type": "code",
      "execution_count": 11,
      "metadata": {
        "colab": {
          "base_uri": "https://localhost:8080/",
          "height": 300
        },
        "id": "sdqZXV9q1udt",
        "outputId": "ecc334dd-8c6c-487a-9059-535e88063bbc"
      },
      "outputs": [
        {
          "data": {
            "text/plain": [
              "<matplotlib.axes._subplots.AxesSubplot at 0x7f4bc5408f50>"
            ]
          },
          "execution_count": 11,
          "metadata": {},
          "output_type": "execute_result"
        },
        {
          "data": {
            "image/png": "[encoded data removed]",
            "text/plain": [
              "<Figure size 432x288 with 1 Axes>"
            ]
          },
          "metadata": {
            "needs_background": "light"
          },
          "output_type": "display_data"
        }
      ],
      "source": [
        "sns.countplot(x='Onlineboarding',hue=\"satisfaction\",data=df,color=\"green\")"
      ]
    },
    {
      "cell_type": "markdown",
      "metadata": {
        "id": "7WjDHzfIJW_L"
      },
      "source": [
        "We can observe that people boarding from gate 1,2 and 3 are giving neutral or dissatisfied reviews more than satisfied reviews while the ratio of neutral or dissatisfied review and satisfied review are almost the same in gate 0 and ratio of neutral or dissatisfied reviews are lesser than the satisfied reviews."
      ]
    },
    {
      "cell_type": "code",
      "execution_count": 12,
      "metadata": {
        "colab": {
          "base_uri": "https://localhost:8080/",
          "height": 297
        },
        "id": "BYOeT-gQJBdw",
        "outputId": "d10f2c40-700b-4a69-a99a-909797edc507"
      },
      "outputs": [
        {
          "data": {
            "text/plain": [
              "<matplotlib.axes._subplots.AxesSubplot at 0x7f4bc53833d0>"
            ]
          },
          "execution_count": 12,
          "metadata": {},
          "output_type": "execute_result"
        },
        {
          "data": {
            "image/png": "[encoded data removed]",
            "text/plain": [
              "<Figure size 432x288 with 1 Axes>"
            ]
          },
          "metadata": {
            "needs_background": "light"
          },
          "output_type": "display_data"
        }
      ],
      "source": [
        "sns.histplot(x='FlightDistance',hue=\"satisfaction\",data=df,kde=True,palette=\"dark\")"
      ]
    },
    {
      "cell_type": "markdown",
      "metadata": {
        "id": "87CvOwixKmuX"
      },
      "source": [
        "From the above diagram that in majority when the flight distance is less the neutral or dissatified reviews becomes more than the satisfied reviews. But, as the flight distance increases the satisfid reviews becomes more than the neutral or dissatisfied reviews."
      ]
    },
    {
      "cell_type": "code",
      "execution_count": 13,
      "metadata": {
        "colab": {
          "base_uri": "https://localhost:8080/",
          "height": 297
        },
        "id": "2cGuOQidJHj-",
        "outputId": "609d15e0-8934-4a3b-961c-f8ba9b7387a1"
      },
      "outputs": [
        {
          "data": {
            "text/plain": [
              "<matplotlib.axes._subplots.AxesSubplot at 0x7f4bba8ced90>"
            ]
          },
          "execution_count": 13,
          "metadata": {},
          "output_type": "execute_result"
        },
        {
          "data": {
            "image/png": "[encoded data removed]",
            "text/plain": [
              "<Figure size 432x288 with 1 Axes>"
            ]
          },
          "metadata": {
            "needs_background": "light"
          },
          "output_type": "display_data"
        }
      ],
      "source": [
        "sns.countplot(x='Inflightwifiservice',hue=\"satisfaction\",data=df,color=\"red\")"
      ]
    },
    {
      "cell_type": "markdown",
      "metadata": {
        "id": "ERx2B4h_LVRd"
      },
      "source": [
        "From the above diagram, we can observe that the satisfied reviews is greater than neutral or dissatisfied reviews in 0,4 and 5 in theratio of satisfied reviews and neutral or dissatisfied"
      ]
    },
    {
      "cell_type": "code",
      "execution_count": 14,
      "metadata": {
        "colab": {
          "base_uri": "https://localhost:8080/",
          "height": 297
        },
        "id": "N6crFwxYJQJu",
        "outputId": "20acaad6-a671-4d21-e7ab-41f368e23ba5"
      },
      "outputs": [
        {
          "data": {
            "text/plain": [
              "<matplotlib.axes._subplots.AxesSubplot at 0x7f4bba86f8d0>"
            ]
          },
          "execution_count": 14,
          "metadata": {},
          "output_type": "execute_result"
        },
        {
          "data": {
            "image/png": "[encoded data removed]",
            "text/plain": [
              "<Figure size 432x288 with 1 Axes>"
            ]
          },
          "metadata": {
            "needs_background": "light"
          },
          "output_type": "display_data"
        }
      ],
      "source": [
        "sns.countplot(x='Foodanddrink',data=df,color=\"orange\")"
      ]
    },
    {
      "cell_type": "markdown",
      "metadata": {
        "id": "SrJICMEdMXd9"
      },
      "source": [
        "From the above diagram, we can observe that people mostly people give 4 as reviews and only a few rarely give 0 as review."
      ]
    },
    {
      "cell_type": "code",
      "execution_count": 15,
      "metadata": {
        "colab": {
          "base_uri": "https://localhost:8080/",
          "height": 382
        },
        "id": "pK3BKnWs7bYy",
        "outputId": "da318cd0-49ef-495c-d951-e2babff15f58"
      },
      "outputs": [
        {
          "data": {
            "text/html": [
              "\n",
              "  <div id=\"df-035bd6e6-64d6-4256-82ad-b82bbc7929fb\">\n",
              "    <div class=\"colab-df-container\">\n",
              "      <div>\n",
              "<style scoped>\n",
              "    .dataframe tbody tr th:only-of-type {\n",
              "        vertical-align: middle;\n",
              "    }\n",
              "\n",
              "    .dataframe tbody tr th {\n",
              "        vertical-align: top;\n",
              "    }\n",
              "\n",
              "    .dataframe thead th {\n",
              "        text-align: right;\n",
              "    }\n",
              "</style>\n",
              "<table border=\"1\" class=\"dataframe\">\n",
              "  <thead>\n",
              "    <tr style=\"text-align: right;\">\n",
              "      <th></th>\n",
              "      <th>Age</th>\n",
              "      <th>FlightDistance</th>\n",
              "      <th>Inflightwifiservice</th>\n",
              "      <th>Departure/Arrivaltimeconvenient</th>\n",
              "      <th>EaseofOnlinebooking</th>\n",
              "      <th>Gatelocation</th>\n",
              "      <th>Foodanddrink</th>\n",
              "      <th>Onlineboarding</th>\n",
              "      <th>Seatcomfort</th>\n",
              "      <th>Inflightentertainment</th>\n",
              "      <th>On-boardservice</th>\n",
              "      <th>Legroomservice</th>\n",
              "      <th>Baggagehandling</th>\n",
              "      <th>Checkinservice</th>\n",
              "      <th>Inflightservice</th>\n",
              "      <th>Cleanliness</th>\n",
              "      <th>DepartureDelayinMinutes</th>\n",
              "      <th>ArrivalDelayinMinutes</th>\n",
              "    </tr>\n",
              "  </thead>\n",
              "  <tbody>\n",
              "    <tr>\n",
              "      <th>count</th>\n",
              "      <td>103904.000000</td>\n",
              "      <td>103904.000000</td>\n",
              "      <td>103904.000000</td>\n",
              "      <td>103904.000000</td>\n",
              "      <td>103904.000000</td>\n",
              "      <td>103904.000000</td>\n",
              "      <td>103904.000000</td>\n",
              "      <td>103904.000000</td>\n",
              "      <td>103904.000000</td>\n",
              "      <td>103904.000000</td>\n",
              "      <td>103904.000000</td>\n",
              "      <td>103904.000000</td>\n",
              "      <td>103904.000000</td>\n",
              "      <td>103904.000000</td>\n",
              "      <td>103904.000000</td>\n",
              "      <td>103904.000000</td>\n",
              "      <td>103904.000000</td>\n",
              "      <td>103594.000000</td>\n",
              "    </tr>\n",
              "    <tr>\n",
              "      <th>mean</th>\n",
              "      <td>39.379706</td>\n",
              "      <td>1189.448375</td>\n",
              "      <td>2.729683</td>\n",
              "      <td>3.060296</td>\n",
              "      <td>2.756901</td>\n",
              "      <td>2.976883</td>\n",
              "      <td>3.202129</td>\n",
              "      <td>3.250375</td>\n",
              "      <td>3.439396</td>\n",
              "      <td>3.358158</td>\n",
              "      <td>3.382363</td>\n",
              "      <td>3.351055</td>\n",
              "      <td>3.631833</td>\n",
              "      <td>3.304290</td>\n",
              "      <td>3.640428</td>\n",
              "      <td>3.286351</td>\n",
              "      <td>14.815618</td>\n",
              "      <td>15.178678</td>\n",
              "    </tr>\n",
              "    <tr>\n",
              "      <th>std</th>\n",
              "      <td>15.114964</td>\n",
              "      <td>997.147281</td>\n",
              "      <td>1.327829</td>\n",
              "      <td>1.525075</td>\n",
              "      <td>1.398929</td>\n",
              "      <td>1.277621</td>\n",
              "      <td>1.329533</td>\n",
              "      <td>1.349509</td>\n",
              "      <td>1.319088</td>\n",
              "      <td>1.332991</td>\n",
              "      <td>1.288354</td>\n",
              "      <td>1.315605</td>\n",
              "      <td>1.180903</td>\n",
              "      <td>1.265396</td>\n",
              "      <td>1.175663</td>\n",
              "      <td>1.312273</td>\n",
              "      <td>38.230901</td>\n",
              "      <td>38.698682</td>\n",
              "    </tr>\n",
              "    <tr>\n",
              "      <th>min</th>\n",
              "      <td>7.000000</td>\n",
              "      <td>31.000000</td>\n",
              "      <td>0.000000</td>\n",
              "      <td>0.000000</td>\n",
              "      <td>0.000000</td>\n",
              "      <td>0.000000</td>\n",
              "      <td>0.000000</td>\n",
              "      <td>0.000000</td>\n",
              "      <td>0.000000</td>\n",
              "      <td>0.000000</td>\n",
              "      <td>0.000000</td>\n",
              "      <td>0.000000</td>\n",
              "      <td>1.000000</td>\n",
              "      <td>0.000000</td>\n",
              "      <td>0.000000</td>\n",
              "      <td>0.000000</td>\n",
              "      <td>0.000000</td>\n",
              "      <td>0.000000</td>\n",
              "    </tr>\n",
              "    <tr>\n",
              "      <th>25%</th>\n",
              "      <td>27.000000</td>\n",
              "      <td>414.000000</td>\n",
              "      <td>2.000000</td>\n",
              "      <td>2.000000</td>\n",
              "      <td>2.000000</td>\n",
              "      <td>2.000000</td>\n",
              "      <td>2.000000</td>\n",
              "      <td>2.000000</td>\n",
              "      <td>2.000000</td>\n",
              "      <td>2.000000</td>\n",
              "      <td>2.000000</td>\n",
              "      <td>2.000000</td>\n",
              "      <td>3.000000</td>\n",
              "      <td>3.000000</td>\n",
              "      <td>3.000000</td>\n",
              "      <td>2.000000</td>\n",
              "      <td>0.000000</td>\n",
              "      <td>0.000000</td>\n",
              "    </tr>\n",
              "    <tr>\n",
              "      <th>50%</th>\n",
              "      <td>40.000000</td>\n",
              "      <td>843.000000</td>\n",
              "      <td>3.000000</td>\n",
              "      <td>3.000000</td>\n",
              "      <td>3.000000</td>\n",
              "      <td>3.000000</td>\n",
              "      <td>3.000000</td>\n",
              "      <td>3.000000</td>\n",
              "      <td>4.000000</td>\n",
              "      <td>4.000000</td>\n",
              "      <td>4.000000</td>\n",
              "      <td>4.000000</td>\n",
              "      <td>4.000000</td>\n",
              "      <td>3.000000</td>\n",
              "      <td>4.000000</td>\n",
              "      <td>3.000000</td>\n",
              "      <td>0.000000</td>\n",
              "      <td>0.000000</td>\n",
              "    </tr>\n",
              "    <tr>\n",
              "      <th>75%</th>\n",
              "      <td>51.000000</td>\n",
              "      <td>1743.000000</td>\n",
              "      <td>4.000000</td>\n",
              "      <td>4.000000</td>\n",
              "      <td>4.000000</td>\n",
              "      <td>4.000000</td>\n",
              "      <td>4.000000</td>\n",
              "      <td>4.000000</td>\n",
              "      <td>5.000000</td>\n",
              "      <td>4.000000</td>\n",
              "      <td>4.000000</td>\n",
              "      <td>4.000000</td>\n",
              "      <td>5.000000</td>\n",
              "      <td>4.000000</td>\n",
              "      <td>5.000000</td>\n",
              "      <td>4.000000</td>\n",
              "      <td>12.000000</td>\n",
              "      <td>13.000000</td>\n",
              "    </tr>\n",
              "    <tr>\n",
              "      <th>max</th>\n",
              "      <td>85.000000</td>\n",
              "      <td>4983.000000</td>\n",
              "      <td>5.000000</td>\n",
              "      <td>5.000000</td>\n",
              "      <td>5.000000</td>\n",
              "      <td>5.000000</td>\n",
              "      <td>5.000000</td>\n",
              "      <td>5.000000</td>\n",
              "      <td>5.000000</td>\n",
              "      <td>5.000000</td>\n",
              "      <td>5.000000</td>\n",
              "      <td>5.000000</td>\n",
              "      <td>5.000000</td>\n",
              "      <td>5.000000</td>\n",
              "      <td>5.000000</td>\n",
              "      <td>5.000000</td>\n",
              "      <td>1592.000000</td>\n",
              "      <td>1584.000000</td>\n",
              "    </tr>\n",
              "  </tbody>\n",
              "</table>\n",
              "</div>\n",
              "      <button class=\"colab-df-convert\" onclick=\"convertToInteractive('df-035bd6e6-64d6-4256-82ad-b82bbc7929fb')\"\n",
              "              title=\"Convert this dataframe to an interactive table.\"\n",
              "              style=\"display:none;\">\n",
              "        \n",
              "  <svg xmlns=\"http://www.w3.org/2000/svg\" height=\"24px\"viewBox=\"0 0 24 24\"\n",
              "       width=\"24px\">\n",
              "    <path d=\"M0 0h24v24H0V0z\" fill=\"none\"/>\n",
              "    <path d=\"M18.56 5.44l.94 2.06.94-2.06 2.06-.94-2.06-.94-.94-2.06-.94 2.06-2.06.94zm-11 1L8.5 8.5l.94-2.06 2.06-.94-2.06-.94L8.5 2.5l-.94 2.06-2.06.94zm10 10l.94 2.06.94-2.06 2.06-.94-2.06-.94-.94-2.06-.94 2.06-2.06.94z\"/><path d=\"M17.41 7.96l-1.37-1.37c-.4-.4-.92-.59-1.43-.59-.52 0-1.04.2-1.43.59L10.3 9.45l-7.72 7.72c-.78.78-.78 2.05 0 2.83L4 21.41c.39.39.9.59 1.41.59.51 0 1.02-.2 1.41-.59l7.78-7.78 2.81-2.81c.8-.78.8-2.07 0-2.86zM5.41 20L4 18.59l7.72-7.72 1.47 1.35L5.41 20z\"/>\n",
              "  </svg>\n",
              "      </button>\n",
              "      \n",
              "  <style>\n",
              "    .colab-df-container {\n",
              "      display:flex;\n",
              "      flex-wrap:wrap;\n",
              "      gap: 12px;\n",
              "    }\n",
              "\n",
              "    .colab-df-convert {\n",
              "      background-color: #E8F0FE;\n",
              "      border: none;\n",
              "      border-radius: 50%;\n",
              "      cursor: pointer;\n",
              "      display: none;\n",
              "      fill: #1967D2;\n",
              "      height: 32px;\n",
              "      padding: 0 0 0 0;\n",
              "      width: 32px;\n",
              "    }\n",
              "\n",
              "    .colab-df-convert:hover {\n",
              "      background-color: #E2EBFA;\n",
              "      box-shadow: 0px 1px 2px rgba(60, 64, 67, 0.3), 0px 1px 3px 1px rgba(60, 64, 67, 0.15);\n",
              "      fill: #174EA6;\n",
              "    }\n",
              "\n",
              "    [theme=dark] .colab-df-convert {\n",
              "      background-color: #3B4455;\n",
              "      fill: #D2E3FC;\n",
              "    }\n",
              "\n",
              "    [theme=dark] .colab-df-convert:hover {\n",
              "      background-color: #434B5C;\n",
              "      box-shadow: 0px 1px 3px 1px rgba(0, 0, 0, 0.15);\n",
              "      filter: drop-shadow(0px 1px 2px rgba(0, 0, 0, 0.3));\n",
              "      fill: #FFFFFF;\n",
              "    }\n",
              "  </style>\n",
              "\n",
              "      <script>\n",
              "        const buttonEl =\n",
              "          document.querySelector('#df-035bd6e6-64d6-4256-82ad-b82bbc7929fb button.colab-df-convert');\n",
              "        buttonEl.style.display =\n",
              "          google.colab.kernel.accessAllowed ? 'block' : 'none';\n",
              "\n",
              "        async function convertToInteractive(key) {\n",
              "          const element = document.querySelector('#df-035bd6e6-64d6-4256-82ad-b82bbc7929fb');\n",
              "          const dataTable =\n",
              "            await google.colab.kernel.invokeFunction('convertToInteractive',\n",
              "                                                     [key], {});\n",
              "          if (!dataTable) return;\n",
              "\n",
              "          const docLinkHtml = 'Like what you see? Visit the ' +\n",
              "            '<a target=\"_blank\" href=https://colab.research.google.com/notebooks/data_table.ipynb>data table notebook</a>'\n",
              "            + ' to learn more about interactive tables.';\n",
              "          element.innerHTML = '';\n",
              "          dataTable['output_type'] = 'display_data';\n",
              "          await google.colab.output.renderOutput(dataTable, element);\n",
              "          const docLink = document.createElement('div');\n",
              "          docLink.innerHTML = docLinkHtml;\n",
              "          element.appendChild(docLink);\n",
              "        }\n",
              "      </script>\n",
              "    </div>\n",
              "  </div>\n",
              "  "
            ],
            "text/plain": [
              "                 Age  ...  ArrivalDelayinMinutes\n",
              "count  103904.000000  ...          103594.000000\n",
              "mean       39.379706  ...              15.178678\n",
              "std        15.114964  ...              38.698682\n",
              "min         7.000000  ...               0.000000\n",
              "25%        27.000000  ...               0.000000\n",
              "50%        40.000000  ...               0.000000\n",
              "75%        51.000000  ...              13.000000\n",
              "max        85.000000  ...            1584.000000\n",
              "\n",
              "[8 rows x 18 columns]"
            ]
          },
          "execution_count": 15,
          "metadata": {},
          "output_type": "execute_result"
        }
      ],
      "source": [
        "df.describe()"
      ]
    },
    {
      "cell_type": "markdown",
      "metadata": {
        "id": "USUhLAL0OLYw"
      },
      "source": [
        "##Preprocessing Data"
      ]
    },
    {
      "cell_type": "code",
      "execution_count": 17,
      "metadata": {
        "id": "R5NQTphDOOvi"
      },
      "outputs": [],
      "source": [
        "le = LabelEncoder() \n",
        "df.Gender= le.fit_transform(df.Gender)\n",
        "df.CustomerType= le.fit_transform(df.CustomerType)\n",
        "df.Age= le.fit_transform(df.Age)\n",
        "df.TypeofTravel= le.fit_transform(df.TypeofTravel)\n",
        "df.Class= le.fit_transform(df.Class)\n",
        "df.satisfaction= le.fit_transform(df.satisfaction)"
      ]
    },
    {
      "cell_type": "code",
      "execution_count": 16,
      "metadata": {
        "colab": {
          "base_uri": "https://localhost:8080/",
          "height": 374
        },
        "id": "ltyoSi0x8I6C",
        "outputId": "07245e6e-5408-408e-d9ae-5435feb2f5ca"
      },
      "outputs": [
        {
          "data": {
            "text/html": [
              "\n",
              "  <div id=\"df-af8c8658-8918-4995-8979-b25d03c996ed\">\n",
              "    <div class=\"colab-df-container\">\n",
              "      <div>\n",
              "<style scoped>\n",
              "    .dataframe tbody tr th:only-of-type {\n",
              "        vertical-align: middle;\n",
              "    }\n",
              "\n",
              "    .dataframe tbody tr th {\n",
              "        vertical-align: top;\n",
              "    }\n",
              "\n",
              "    .dataframe thead th {\n",
              "        text-align: right;\n",
              "    }\n",
              "</style>\n",
              "<table border=\"1\" class=\"dataframe\">\n",
              "  <thead>\n",
              "    <tr style=\"text-align: right;\">\n",
              "      <th></th>\n",
              "      <th>Gender</th>\n",
              "      <th>CustomerType</th>\n",
              "      <th>Age</th>\n",
              "      <th>TypeofTravel</th>\n",
              "      <th>Class</th>\n",
              "      <th>FlightDistance</th>\n",
              "      <th>Inflightwifiservice</th>\n",
              "      <th>Departure/Arrivaltimeconvenient</th>\n",
              "      <th>EaseofOnlinebooking</th>\n",
              "      <th>Gatelocation</th>\n",
              "      <th>Foodanddrink</th>\n",
              "      <th>Onlineboarding</th>\n",
              "      <th>Seatcomfort</th>\n",
              "      <th>Inflightentertainment</th>\n",
              "      <th>On-boardservice</th>\n",
              "      <th>Legroomservice</th>\n",
              "      <th>Baggagehandling</th>\n",
              "      <th>Checkinservice</th>\n",
              "      <th>Inflightservice</th>\n",
              "      <th>Cleanliness</th>\n",
              "      <th>DepartureDelayinMinutes</th>\n",
              "      <th>ArrivalDelayinMinutes</th>\n",
              "      <th>satisfaction</th>\n",
              "    </tr>\n",
              "  </thead>\n",
              "  <tbody>\n",
              "    <tr>\n",
              "      <th>0</th>\n",
              "      <td>Male</td>\n",
              "      <td>Loyal Customer</td>\n",
              "      <td>13</td>\n",
              "      <td>Personal Travel</td>\n",
              "      <td>Eco Plus</td>\n",
              "      <td>460</td>\n",
              "      <td>3</td>\n",
              "      <td>4</td>\n",
              "      <td>3</td>\n",
              "      <td>1</td>\n",
              "      <td>5</td>\n",
              "      <td>3</td>\n",
              "      <td>5</td>\n",
              "      <td>5</td>\n",
              "      <td>4</td>\n",
              "      <td>3</td>\n",
              "      <td>4</td>\n",
              "      <td>4</td>\n",
              "      <td>5</td>\n",
              "      <td>5</td>\n",
              "      <td>25</td>\n",
              "      <td>18.0</td>\n",
              "      <td>neutral or dissatisfied</td>\n",
              "    </tr>\n",
              "    <tr>\n",
              "      <th>1</th>\n",
              "      <td>Male</td>\n",
              "      <td>disloyal Customer</td>\n",
              "      <td>25</td>\n",
              "      <td>Business travel</td>\n",
              "      <td>Business</td>\n",
              "      <td>235</td>\n",
              "      <td>3</td>\n",
              "      <td>2</td>\n",
              "      <td>3</td>\n",
              "      <td>3</td>\n",
              "      <td>1</td>\n",
              "      <td>3</td>\n",
              "      <td>1</td>\n",
              "      <td>1</td>\n",
              "      <td>1</td>\n",
              "      <td>5</td>\n",
              "      <td>3</td>\n",
              "      <td>1</td>\n",
              "      <td>4</td>\n",
              "      <td>1</td>\n",
              "      <td>1</td>\n",
              "      <td>6.0</td>\n",
              "      <td>neutral or dissatisfied</td>\n",
              "    </tr>\n",
              "    <tr>\n",
              "      <th>2</th>\n",
              "      <td>Female</td>\n",
              "      <td>Loyal Customer</td>\n",
              "      <td>26</td>\n",
              "      <td>Business travel</td>\n",
              "      <td>Business</td>\n",
              "      <td>1142</td>\n",
              "      <td>2</td>\n",
              "      <td>2</td>\n",
              "      <td>2</td>\n",
              "      <td>2</td>\n",
              "      <td>5</td>\n",
              "      <td>5</td>\n",
              "      <td>5</td>\n",
              "      <td>5</td>\n",
              "      <td>4</td>\n",
              "      <td>3</td>\n",
              "      <td>4</td>\n",
              "      <td>4</td>\n",
              "      <td>4</td>\n",
              "      <td>5</td>\n",
              "      <td>0</td>\n",
              "      <td>0.0</td>\n",
              "      <td>satisfied</td>\n",
              "    </tr>\n",
              "    <tr>\n",
              "      <th>3</th>\n",
              "      <td>Female</td>\n",
              "      <td>Loyal Customer</td>\n",
              "      <td>25</td>\n",
              "      <td>Business travel</td>\n",
              "      <td>Business</td>\n",
              "      <td>562</td>\n",
              "      <td>2</td>\n",
              "      <td>5</td>\n",
              "      <td>5</td>\n",
              "      <td>5</td>\n",
              "      <td>2</td>\n",
              "      <td>2</td>\n",
              "      <td>2</td>\n",
              "      <td>2</td>\n",
              "      <td>2</td>\n",
              "      <td>5</td>\n",
              "      <td>3</td>\n",
              "      <td>1</td>\n",
              "      <td>4</td>\n",
              "      <td>2</td>\n",
              "      <td>11</td>\n",
              "      <td>9.0</td>\n",
              "      <td>neutral or dissatisfied</td>\n",
              "    </tr>\n",
              "    <tr>\n",
              "      <th>4</th>\n",
              "      <td>Male</td>\n",
              "      <td>Loyal Customer</td>\n",
              "      <td>61</td>\n",
              "      <td>Business travel</td>\n",
              "      <td>Business</td>\n",
              "      <td>214</td>\n",
              "      <td>3</td>\n",
              "      <td>3</td>\n",
              "      <td>3</td>\n",
              "      <td>3</td>\n",
              "      <td>4</td>\n",
              "      <td>5</td>\n",
              "      <td>5</td>\n",
              "      <td>3</td>\n",
              "      <td>3</td>\n",
              "      <td>4</td>\n",
              "      <td>4</td>\n",
              "      <td>3</td>\n",
              "      <td>3</td>\n",
              "      <td>3</td>\n",
              "      <td>0</td>\n",
              "      <td>0.0</td>\n",
              "      <td>satisfied</td>\n",
              "    </tr>\n",
              "  </tbody>\n",
              "</table>\n",
              "</div>\n",
              "      <button class=\"colab-df-convert\" onclick=\"convertToInteractive('df-af8c8658-8918-4995-8979-b25d03c996ed')\"\n",
              "              title=\"Convert this dataframe to an interactive table.\"\n",
              "              style=\"display:none;\">\n",
              "        \n",
              "  <svg xmlns=\"http://www.w3.org/2000/svg\" height=\"24px\"viewBox=\"0 0 24 24\"\n",
              "       width=\"24px\">\n",
              "    <path d=\"M0 0h24v24H0V0z\" fill=\"none\"/>\n",
              "    <path d=\"M18.56 5.44l.94 2.06.94-2.06 2.06-.94-2.06-.94-.94-2.06-.94 2.06-2.06.94zm-11 1L8.5 8.5l.94-2.06 2.06-.94-2.06-.94L8.5 2.5l-.94 2.06-2.06.94zm10 10l.94 2.06.94-2.06 2.06-.94-2.06-.94-.94-2.06-.94 2.06-2.06.94z\"/><path d=\"M17.41 7.96l-1.37-1.37c-.4-.4-.92-.59-1.43-.59-.52 0-1.04.2-1.43.59L10.3 9.45l-7.72 7.72c-.78.78-.78 2.05 0 2.83L4 21.41c.39.39.9.59 1.41.59.51 0 1.02-.2 1.41-.59l7.78-7.78 2.81-2.81c.8-.78.8-2.07 0-2.86zM5.41 20L4 18.59l7.72-7.72 1.47 1.35L5.41 20z\"/>\n",
              "  </svg>\n",
              "      </button>\n",
              "      \n",
              "  <style>\n",
              "    .colab-df-container {\n",
              "      display:flex;\n",
              "      flex-wrap:wrap;\n",
              "      gap: 12px;\n",
              "    }\n",
              "\n",
              "    .colab-df-convert {\n",
              "      background-color: #E8F0FE;\n",
              "      border: none;\n",
              "      border-radius: 50%;\n",
              "      cursor: pointer;\n",
              "      display: none;\n",
              "      fill: #1967D2;\n",
              "      height: 32px;\n",
              "      padding: 0 0 0 0;\n",
              "      width: 32px;\n",
              "    }\n",
              "\n",
              "    .colab-df-convert:hover {\n",
              "      background-color: #E2EBFA;\n",
              "      box-shadow: 0px 1px 2px rgba(60, 64, 67, 0.3), 0px 1px 3px 1px rgba(60, 64, 67, 0.15);\n",
              "      fill: #174EA6;\n",
              "    }\n",
              "\n",
              "    [theme=dark] .colab-df-convert {\n",
              "      background-color: #3B4455;\n",
              "      fill: #D2E3FC;\n",
              "    }\n",
              "\n",
              "    [theme=dark] .colab-df-convert:hover {\n",
              "      background-color: #434B5C;\n",
              "      box-shadow: 0px 1px 3px 1px rgba(0, 0, 0, 0.15);\n",
              "      filter: drop-shadow(0px 1px 2px rgba(0, 0, 0, 0.3));\n",
              "      fill: #FFFFFF;\n",
              "    }\n",
              "  </style>\n",
              "\n",
              "      <script>\n",
              "        const buttonEl =\n",
              "          document.querySelector('#df-af8c8658-8918-4995-8979-b25d03c996ed button.colab-df-convert');\n",
              "        buttonEl.style.display =\n",
              "          google.colab.kernel.accessAllowed ? 'block' : 'none';\n",
              "\n",
              "        async function convertToInteractive(key) {\n",
              "          const element = document.querySelector('#df-af8c8658-8918-4995-8979-b25d03c996ed');\n",
              "          const dataTable =\n",
              "            await google.colab.kernel.invokeFunction('convertToInteractive',\n",
              "                                                     [key], {});\n",
              "          if (!dataTable) return;\n",
              "\n",
              "          const docLinkHtml = 'Like what you see? Visit the ' +\n",
              "            '<a target=\"_blank\" href=https://colab.research.google.com/notebooks/data_table.ipynb>data table notebook</a>'\n",
              "            + ' to learn more about interactive tables.';\n",
              "          element.innerHTML = '';\n",
              "          dataTable['output_type'] = 'display_data';\n",
              "          await google.colab.output.renderOutput(dataTable, element);\n",
              "          const docLink = document.createElement('div');\n",
              "          docLink.innerHTML = docLinkHtml;\n",
              "          element.appendChild(docLink);\n",
              "        }\n",
              "      </script>\n",
              "    </div>\n",
              "  </div>\n",
              "  "
            ],
            "text/plain": [
              "   Gender       CustomerType  ...  ArrivalDelayinMinutes             satisfaction\n",
              "0    Male     Loyal Customer  ...                   18.0  neutral or dissatisfied\n",
              "1    Male  disloyal Customer  ...                    6.0  neutral or dissatisfied\n",
              "2  Female     Loyal Customer  ...                    0.0                satisfied\n",
              "3  Female     Loyal Customer  ...                    9.0  neutral or dissatisfied\n",
              "4    Male     Loyal Customer  ...                    0.0                satisfied\n",
              "\n",
              "[5 rows x 23 columns]"
            ]
          },
          "execution_count": 16,
          "metadata": {},
          "output_type": "execute_result"
        }
      ],
      "source": [
        "df.head()"
      ]
    },
    {
      "cell_type": "markdown",
      "metadata": {
        "id": "QKImkoIGM4pe"
      },
      "source": [
        "##Correlationships of data"
      ]
    },
    {
      "cell_type": "code",
      "execution_count": 18,
      "metadata": {
        "colab": {
          "base_uri": "https://localhost:8080/",
          "height": 852
        },
        "id": "7I9F4TO3M9Zv",
        "outputId": "59e5cb14-1c55-4a84-ccc7-1272f67dbfc3"
      },
      "outputs": [
        {
          "data": {
            "text/html": [
              "\n",
              "  <div id=\"df-e58f5e2c-3798-4df4-85fa-3ba9b26a76e4\">\n",
              "    <div class=\"colab-df-container\">\n",
              "      <div>\n",
              "<style scoped>\n",
              "    .dataframe tbody tr th:only-of-type {\n",
              "        vertical-align: middle;\n",
              "    }\n",
              "\n",
              "    .dataframe tbody tr th {\n",
              "        vertical-align: top;\n",
              "    }\n",
              "\n",
              "    .dataframe thead th {\n",
              "        text-align: right;\n",
              "    }\n",
              "</style>\n",
              "<table border=\"1\" class=\"dataframe\">\n",
              "  <thead>\n",
              "    <tr style=\"text-align: right;\">\n",
              "      <th></th>\n",
              "      <th>Gender</th>\n",
              "      <th>CustomerType</th>\n",
              "      <th>Age</th>\n",
              "      <th>TypeofTravel</th>\n",
              "      <th>Class</th>\n",
              "      <th>FlightDistance</th>\n",
              "      <th>Inflightwifiservice</th>\n",
              "      <th>Departure/Arrivaltimeconvenient</th>\n",
              "      <th>EaseofOnlinebooking</th>\n",
              "      <th>Gatelocation</th>\n",
              "      <th>Foodanddrink</th>\n",
              "      <th>Onlineboarding</th>\n",
              "      <th>Seatcomfort</th>\n",
              "      <th>Inflightentertainment</th>\n",
              "      <th>On-boardservice</th>\n",
              "      <th>Legroomservice</th>\n",
              "      <th>Baggagehandling</th>\n",
              "      <th>Checkinservice</th>\n",
              "      <th>Inflightservice</th>\n",
              "      <th>Cleanliness</th>\n",
              "      <th>DepartureDelayinMinutes</th>\n",
              "      <th>ArrivalDelayinMinutes</th>\n",
              "      <th>satisfaction</th>\n",
              "    </tr>\n",
              "  </thead>\n",
              "  <tbody>\n",
              "    <tr>\n",
              "      <th>Gender</th>\n",
              "      <td>1.000000</td>\n",
              "      <td>-0.031732</td>\n",
              "      <td>0.008941</td>\n",
              "      <td>0.006909</td>\n",
              "      <td>-0.012870</td>\n",
              "      <td>0.005828</td>\n",
              "      <td>0.008974</td>\n",
              "      <td>0.009142</td>\n",
              "      <td>0.006951</td>\n",
              "      <td>0.000333</td>\n",
              "      <td>0.005772</td>\n",
              "      <td>-0.042260</td>\n",
              "      <td>-0.026502</td>\n",
              "      <td>0.006117</td>\n",
              "      <td>0.008156</td>\n",
              "      <td>0.031798</td>\n",
              "      <td>0.037391</td>\n",
              "      <td>0.010563</td>\n",
              "      <td>0.039410</td>\n",
              "      <td>0.006505</td>\n",
              "      <td>0.002935</td>\n",
              "      <td>0.000396</td>\n",
              "      <td>0.012211</td>\n",
              "    </tr>\n",
              "    <tr>\n",
              "      <th>CustomerType</th>\n",
              "      <td>-0.031732</td>\n",
              "      <td>1.000000</td>\n",
              "      <td>-0.281735</td>\n",
              "      <td>-0.308333</td>\n",
              "      <td>0.042638</td>\n",
              "      <td>-0.225200</td>\n",
              "      <td>-0.007543</td>\n",
              "      <td>-0.206869</td>\n",
              "      <td>-0.019509</td>\n",
              "      <td>0.006078</td>\n",
              "      <td>-0.059454</td>\n",
              "      <td>-0.189262</td>\n",
              "      <td>-0.159484</td>\n",
              "      <td>-0.109930</td>\n",
              "      <td>-0.056560</td>\n",
              "      <td>-0.047868</td>\n",
              "      <td>0.024723</td>\n",
              "      <td>-0.032177</td>\n",
              "      <td>0.022670</td>\n",
              "      <td>-0.083613</td>\n",
              "      <td>0.004036</td>\n",
              "      <td>0.004747</td>\n",
              "      <td>-0.187638</td>\n",
              "    </tr>\n",
              "    <tr>\n",
              "      <th>Age</th>\n",
              "      <td>0.008941</td>\n",
              "      <td>-0.281735</td>\n",
              "      <td>1.000000</td>\n",
              "      <td>-0.048501</td>\n",
              "      <td>-0.117359</td>\n",
              "      <td>0.099475</td>\n",
              "      <td>0.017866</td>\n",
              "      <td>0.038135</td>\n",
              "      <td>0.024828</td>\n",
              "      <td>-0.001339</td>\n",
              "      <td>0.023010</td>\n",
              "      <td>0.208970</td>\n",
              "      <td>0.160298</td>\n",
              "      <td>0.076466</td>\n",
              "      <td>0.057628</td>\n",
              "      <td>0.040590</td>\n",
              "      <td>-0.047521</td>\n",
              "      <td>0.035483</td>\n",
              "      <td>-0.049379</td>\n",
              "      <td>0.053613</td>\n",
              "      <td>-0.010157</td>\n",
              "      <td>-0.012150</td>\n",
              "      <td>0.137207</td>\n",
              "    </tr>\n",
              "    <tr>\n",
              "      <th>TypeofTravel</th>\n",
              "      <td>0.006909</td>\n",
              "      <td>-0.308333</td>\n",
              "      <td>-0.048501</td>\n",
              "      <td>1.000000</td>\n",
              "      <td>0.487088</td>\n",
              "      <td>-0.267344</td>\n",
              "      <td>-0.105085</td>\n",
              "      <td>0.259763</td>\n",
              "      <td>-0.133511</td>\n",
              "      <td>-0.030700</td>\n",
              "      <td>-0.063439</td>\n",
              "      <td>-0.224803</td>\n",
              "      <td>-0.124399</td>\n",
              "      <td>-0.148199</td>\n",
              "      <td>-0.056543</td>\n",
              "      <td>-0.138803</td>\n",
              "      <td>-0.031321</td>\n",
              "      <td>0.016751</td>\n",
              "      <td>-0.022599</td>\n",
              "      <td>-0.079207</td>\n",
              "      <td>-0.005432</td>\n",
              "      <td>-0.005683</td>\n",
              "      <td>-0.449000</td>\n",
              "    </tr>\n",
              "    <tr>\n",
              "      <th>Class</th>\n",
              "      <td>-0.012870</td>\n",
              "      <td>0.042638</td>\n",
              "      <td>-0.117359</td>\n",
              "      <td>0.487088</td>\n",
              "      <td>1.000000</td>\n",
              "      <td>-0.427219</td>\n",
              "      <td>-0.023112</td>\n",
              "      <td>0.089922</td>\n",
              "      <td>-0.094329</td>\n",
              "      <td>-0.004488</td>\n",
              "      <td>-0.077042</td>\n",
              "      <td>-0.297062</td>\n",
              "      <td>-0.210158</td>\n",
              "      <td>-0.179028</td>\n",
              "      <td>-0.207748</td>\n",
              "      <td>-0.197321</td>\n",
              "      <td>-0.163998</td>\n",
              "      <td>-0.157112</td>\n",
              "      <td>-0.158604</td>\n",
              "      <td>-0.125988</td>\n",
              "      <td>0.010281</td>\n",
              "      <td>0.014701</td>\n",
              "      <td>-0.449321</td>\n",
              "    </tr>\n",
              "    <tr>\n",
              "      <th>FlightDistance</th>\n",
              "      <td>0.005828</td>\n",
              "      <td>-0.225200</td>\n",
              "      <td>0.099475</td>\n",
              "      <td>-0.267344</td>\n",
              "      <td>-0.427219</td>\n",
              "      <td>1.000000</td>\n",
              "      <td>0.007131</td>\n",
              "      <td>-0.020043</td>\n",
              "      <td>0.065717</td>\n",
              "      <td>0.004793</td>\n",
              "      <td>0.056994</td>\n",
              "      <td>0.214869</td>\n",
              "      <td>0.157333</td>\n",
              "      <td>0.128740</td>\n",
              "      <td>0.109526</td>\n",
              "      <td>0.133916</td>\n",
              "      <td>0.063184</td>\n",
              "      <td>0.073072</td>\n",
              "      <td>0.057540</td>\n",
              "      <td>0.093149</td>\n",
              "      <td>0.002158</td>\n",
              "      <td>-0.002426</td>\n",
              "      <td>0.298780</td>\n",
              "    </tr>\n",
              "    <tr>\n",
              "      <th>Inflightwifiservice</th>\n",
              "      <td>0.008974</td>\n",
              "      <td>-0.007543</td>\n",
              "      <td>0.017866</td>\n",
              "      <td>-0.105085</td>\n",
              "      <td>-0.023112</td>\n",
              "      <td>0.007131</td>\n",
              "      <td>1.000000</td>\n",
              "      <td>0.343845</td>\n",
              "      <td>0.715856</td>\n",
              "      <td>0.336248</td>\n",
              "      <td>0.134718</td>\n",
              "      <td>0.456970</td>\n",
              "      <td>0.122658</td>\n",
              "      <td>0.209321</td>\n",
              "      <td>0.121500</td>\n",
              "      <td>0.160473</td>\n",
              "      <td>0.120923</td>\n",
              "      <td>0.043193</td>\n",
              "      <td>0.110441</td>\n",
              "      <td>0.132698</td>\n",
              "      <td>-0.017402</td>\n",
              "      <td>-0.019095</td>\n",
              "      <td>0.284245</td>\n",
              "    </tr>\n",
              "    <tr>\n",
              "      <th>Departure/Arrivaltimeconvenient</th>\n",
              "      <td>0.009142</td>\n",
              "      <td>-0.206869</td>\n",
              "      <td>0.038135</td>\n",
              "      <td>0.259763</td>\n",
              "      <td>0.089922</td>\n",
              "      <td>-0.020043</td>\n",
              "      <td>0.343845</td>\n",
              "      <td>1.000000</td>\n",
              "      <td>0.436961</td>\n",
              "      <td>0.444757</td>\n",
              "      <td>0.004906</td>\n",
              "      <td>0.070119</td>\n",
              "      <td>0.011344</td>\n",
              "      <td>-0.004861</td>\n",
              "      <td>0.068882</td>\n",
              "      <td>0.012441</td>\n",
              "      <td>0.072126</td>\n",
              "      <td>0.093333</td>\n",
              "      <td>0.073318</td>\n",
              "      <td>0.014292</td>\n",
              "      <td>0.001005</td>\n",
              "      <td>-0.000864</td>\n",
              "      <td>-0.051601</td>\n",
              "    </tr>\n",
              "    <tr>\n",
              "      <th>EaseofOnlinebooking</th>\n",
              "      <td>0.006951</td>\n",
              "      <td>-0.019509</td>\n",
              "      <td>0.024828</td>\n",
              "      <td>-0.133511</td>\n",
              "      <td>-0.094329</td>\n",
              "      <td>0.065717</td>\n",
              "      <td>0.715856</td>\n",
              "      <td>0.436961</td>\n",
              "      <td>1.000000</td>\n",
              "      <td>0.458655</td>\n",
              "      <td>0.031873</td>\n",
              "      <td>0.404074</td>\n",
              "      <td>0.030014</td>\n",
              "      <td>0.047032</td>\n",
              "      <td>0.038833</td>\n",
              "      <td>0.107601</td>\n",
              "      <td>0.038762</td>\n",
              "      <td>0.011081</td>\n",
              "      <td>0.035272</td>\n",
              "      <td>0.016179</td>\n",
              "      <td>-0.006371</td>\n",
              "      <td>-0.007984</td>\n",
              "      <td>0.171705</td>\n",
              "    </tr>\n",
              "    <tr>\n",
              "      <th>Gatelocation</th>\n",
              "      <td>0.000333</td>\n",
              "      <td>0.006078</td>\n",
              "      <td>-0.001339</td>\n",
              "      <td>-0.030700</td>\n",
              "      <td>-0.004488</td>\n",
              "      <td>0.004793</td>\n",
              "      <td>0.336248</td>\n",
              "      <td>0.444757</td>\n",
              "      <td>0.458655</td>\n",
              "      <td>1.000000</td>\n",
              "      <td>-0.001159</td>\n",
              "      <td>0.001688</td>\n",
              "      <td>0.003669</td>\n",
              "      <td>0.003517</td>\n",
              "      <td>-0.028373</td>\n",
              "      <td>-0.005873</td>\n",
              "      <td>0.002313</td>\n",
              "      <td>-0.035427</td>\n",
              "      <td>0.001681</td>\n",
              "      <td>-0.003830</td>\n",
              "      <td>0.005467</td>\n",
              "      <td>0.005143</td>\n",
              "      <td>0.000682</td>\n",
              "    </tr>\n",
              "    <tr>\n",
              "      <th>Foodanddrink</th>\n",
              "      <td>0.005772</td>\n",
              "      <td>-0.059454</td>\n",
              "      <td>0.023010</td>\n",
              "      <td>-0.063439</td>\n",
              "      <td>-0.077042</td>\n",
              "      <td>0.056994</td>\n",
              "      <td>0.134718</td>\n",
              "      <td>0.004906</td>\n",
              "      <td>0.031873</td>\n",
              "      <td>-0.001159</td>\n",
              "      <td>1.000000</td>\n",
              "      <td>0.234468</td>\n",
              "      <td>0.574556</td>\n",
              "      <td>0.622512</td>\n",
              "      <td>0.059073</td>\n",
              "      <td>0.032498</td>\n",
              "      <td>0.034746</td>\n",
              "      <td>0.087299</td>\n",
              "      <td>0.033993</td>\n",
              "      <td>0.657760</td>\n",
              "      <td>-0.029926</td>\n",
              "      <td>-0.032524</td>\n",
              "      <td>0.209936</td>\n",
              "    </tr>\n",
              "    <tr>\n",
              "      <th>Onlineboarding</th>\n",
              "      <td>-0.042260</td>\n",
              "      <td>-0.189262</td>\n",
              "      <td>0.208970</td>\n",
              "      <td>-0.224803</td>\n",
              "      <td>-0.297062</td>\n",
              "      <td>0.214869</td>\n",
              "      <td>0.456970</td>\n",
              "      <td>0.070119</td>\n",
              "      <td>0.404074</td>\n",
              "      <td>0.001688</td>\n",
              "      <td>0.234468</td>\n",
              "      <td>1.000000</td>\n",
              "      <td>0.420211</td>\n",
              "      <td>0.285066</td>\n",
              "      <td>0.155443</td>\n",
              "      <td>0.123950</td>\n",
              "      <td>0.083280</td>\n",
              "      <td>0.204462</td>\n",
              "      <td>0.074573</td>\n",
              "      <td>0.331517</td>\n",
              "      <td>-0.018982</td>\n",
              "      <td>-0.021949</td>\n",
              "      <td>0.503557</td>\n",
              "    </tr>\n",
              "    <tr>\n",
              "      <th>Seatcomfort</th>\n",
              "      <td>-0.026502</td>\n",
              "      <td>-0.159484</td>\n",
              "      <td>0.160298</td>\n",
              "      <td>-0.124399</td>\n",
              "      <td>-0.210158</td>\n",
              "      <td>0.157333</td>\n",
              "      <td>0.122658</td>\n",
              "      <td>0.011344</td>\n",
              "      <td>0.030014</td>\n",
              "      <td>0.003669</td>\n",
              "      <td>0.574556</td>\n",
              "      <td>0.420211</td>\n",
              "      <td>1.000000</td>\n",
              "      <td>0.610590</td>\n",
              "      <td>0.131971</td>\n",
              "      <td>0.105559</td>\n",
              "      <td>0.074542</td>\n",
              "      <td>0.191854</td>\n",
              "      <td>0.069218</td>\n",
              "      <td>0.678534</td>\n",
              "      <td>-0.027898</td>\n",
              "      <td>-0.029900</td>\n",
              "      <td>0.349459</td>\n",
              "    </tr>\n",
              "    <tr>\n",
              "      <th>Inflightentertainment</th>\n",
              "      <td>0.006117</td>\n",
              "      <td>-0.109930</td>\n",
              "      <td>0.076466</td>\n",
              "      <td>-0.148199</td>\n",
              "      <td>-0.179028</td>\n",
              "      <td>0.128740</td>\n",
              "      <td>0.209321</td>\n",
              "      <td>-0.004861</td>\n",
              "      <td>0.047032</td>\n",
              "      <td>0.003517</td>\n",
              "      <td>0.622512</td>\n",
              "      <td>0.285066</td>\n",
              "      <td>0.610590</td>\n",
              "      <td>1.000000</td>\n",
              "      <td>0.420153</td>\n",
              "      <td>0.299692</td>\n",
              "      <td>0.378210</td>\n",
              "      <td>0.120867</td>\n",
              "      <td>0.404855</td>\n",
              "      <td>0.691815</td>\n",
              "      <td>-0.027489</td>\n",
              "      <td>-0.030703</td>\n",
              "      <td>0.398059</td>\n",
              "    </tr>\n",
              "    <tr>\n",
              "      <th>On-boardservice</th>\n",
              "      <td>0.008156</td>\n",
              "      <td>-0.056560</td>\n",
              "      <td>0.057628</td>\n",
              "      <td>-0.056543</td>\n",
              "      <td>-0.207748</td>\n",
              "      <td>0.109526</td>\n",
              "      <td>0.121500</td>\n",
              "      <td>0.068882</td>\n",
              "      <td>0.038833</td>\n",
              "      <td>-0.028373</td>\n",
              "      <td>0.059073</td>\n",
              "      <td>0.155443</td>\n",
              "      <td>0.131971</td>\n",
              "      <td>0.420153</td>\n",
              "      <td>1.000000</td>\n",
              "      <td>0.355495</td>\n",
              "      <td>0.519134</td>\n",
              "      <td>0.243914</td>\n",
              "      <td>0.550782</td>\n",
              "      <td>0.123220</td>\n",
              "      <td>-0.031569</td>\n",
              "      <td>-0.035227</td>\n",
              "      <td>0.322383</td>\n",
              "    </tr>\n",
              "    <tr>\n",
              "      <th>Legroomservice</th>\n",
              "      <td>0.031798</td>\n",
              "      <td>-0.047868</td>\n",
              "      <td>0.040590</td>\n",
              "      <td>-0.138803</td>\n",
              "      <td>-0.197321</td>\n",
              "      <td>0.133916</td>\n",
              "      <td>0.160473</td>\n",
              "      <td>0.012441</td>\n",
              "      <td>0.107601</td>\n",
              "      <td>-0.005873</td>\n",
              "      <td>0.032498</td>\n",
              "      <td>0.123950</td>\n",
              "      <td>0.105559</td>\n",
              "      <td>0.299692</td>\n",
              "      <td>0.355495</td>\n",
              "      <td>1.000000</td>\n",
              "      <td>0.369544</td>\n",
              "      <td>0.153137</td>\n",
              "      <td>0.368656</td>\n",
              "      <td>0.096370</td>\n",
              "      <td>0.014363</td>\n",
              "      <td>0.011843</td>\n",
              "      <td>0.313131</td>\n",
              "    </tr>\n",
              "    <tr>\n",
              "      <th>Baggagehandling</th>\n",
              "      <td>0.037391</td>\n",
              "      <td>0.024723</td>\n",
              "      <td>-0.047521</td>\n",
              "      <td>-0.031321</td>\n",
              "      <td>-0.163998</td>\n",
              "      <td>0.063184</td>\n",
              "      <td>0.120923</td>\n",
              "      <td>0.072126</td>\n",
              "      <td>0.038762</td>\n",
              "      <td>0.002313</td>\n",
              "      <td>0.034746</td>\n",
              "      <td>0.083280</td>\n",
              "      <td>0.074542</td>\n",
              "      <td>0.378210</td>\n",
              "      <td>0.519134</td>\n",
              "      <td>0.369544</td>\n",
              "      <td>1.000000</td>\n",
              "      <td>0.233122</td>\n",
              "      <td>0.628561</td>\n",
              "      <td>0.095793</td>\n",
              "      <td>-0.005573</td>\n",
              "      <td>-0.008542</td>\n",
              "      <td>0.247749</td>\n",
              "    </tr>\n",
              "    <tr>\n",
              "      <th>Checkinservice</th>\n",
              "      <td>0.010563</td>\n",
              "      <td>-0.032177</td>\n",
              "      <td>0.035483</td>\n",
              "      <td>0.016751</td>\n",
              "      <td>-0.157112</td>\n",
              "      <td>0.073072</td>\n",
              "      <td>0.043193</td>\n",
              "      <td>0.093333</td>\n",
              "      <td>0.011081</td>\n",
              "      <td>-0.035427</td>\n",
              "      <td>0.087299</td>\n",
              "      <td>0.204462</td>\n",
              "      <td>0.191854</td>\n",
              "      <td>0.120867</td>\n",
              "      <td>0.243914</td>\n",
              "      <td>0.153137</td>\n",
              "      <td>0.233122</td>\n",
              "      <td>1.000000</td>\n",
              "      <td>0.237197</td>\n",
              "      <td>0.179583</td>\n",
              "      <td>-0.018453</td>\n",
              "      <td>-0.020369</td>\n",
              "      <td>0.236174</td>\n",
              "    </tr>\n",
              "    <tr>\n",
              "      <th>Inflightservice</th>\n",
              "      <td>0.039410</td>\n",
              "      <td>0.022670</td>\n",
              "      <td>-0.049379</td>\n",
              "      <td>-0.022599</td>\n",
              "      <td>-0.158604</td>\n",
              "      <td>0.057540</td>\n",
              "      <td>0.110441</td>\n",
              "      <td>0.073318</td>\n",
              "      <td>0.035272</td>\n",
              "      <td>0.001681</td>\n",
              "      <td>0.033993</td>\n",
              "      <td>0.074573</td>\n",
              "      <td>0.069218</td>\n",
              "      <td>0.404855</td>\n",
              "      <td>0.550782</td>\n",
              "      <td>0.368656</td>\n",
              "      <td>0.628561</td>\n",
              "      <td>0.237197</td>\n",
              "      <td>1.000000</td>\n",
              "      <td>0.088779</td>\n",
              "      <td>-0.054813</td>\n",
              "      <td>-0.059196</td>\n",
              "      <td>0.244741</td>\n",
              "    </tr>\n",
              "    <tr>\n",
              "      <th>Cleanliness</th>\n",
              "      <td>0.006505</td>\n",
              "      <td>-0.083613</td>\n",
              "      <td>0.053613</td>\n",
              "      <td>-0.079207</td>\n",
              "      <td>-0.125988</td>\n",
              "      <td>0.093149</td>\n",
              "      <td>0.132698</td>\n",
              "      <td>0.014292</td>\n",
              "      <td>0.016179</td>\n",
              "      <td>-0.003830</td>\n",
              "      <td>0.657760</td>\n",
              "      <td>0.331517</td>\n",
              "      <td>0.678534</td>\n",
              "      <td>0.691815</td>\n",
              "      <td>0.123220</td>\n",
              "      <td>0.096370</td>\n",
              "      <td>0.095793</td>\n",
              "      <td>0.179583</td>\n",
              "      <td>0.088779</td>\n",
              "      <td>1.000000</td>\n",
              "      <td>-0.014093</td>\n",
              "      <td>-0.015774</td>\n",
              "      <td>0.305198</td>\n",
              "    </tr>\n",
              "    <tr>\n",
              "      <th>DepartureDelayinMinutes</th>\n",
              "      <td>0.002935</td>\n",
              "      <td>0.004036</td>\n",
              "      <td>-0.010157</td>\n",
              "      <td>-0.005432</td>\n",
              "      <td>0.010281</td>\n",
              "      <td>0.002158</td>\n",
              "      <td>-0.017402</td>\n",
              "      <td>0.001005</td>\n",
              "      <td>-0.006371</td>\n",
              "      <td>0.005467</td>\n",
              "      <td>-0.029926</td>\n",
              "      <td>-0.018982</td>\n",
              "      <td>-0.027898</td>\n",
              "      <td>-0.027489</td>\n",
              "      <td>-0.031569</td>\n",
              "      <td>0.014363</td>\n",
              "      <td>-0.005573</td>\n",
              "      <td>-0.018453</td>\n",
              "      <td>-0.054813</td>\n",
              "      <td>-0.014093</td>\n",
              "      <td>1.000000</td>\n",
              "      <td>0.965481</td>\n",
              "      <td>-0.050494</td>\n",
              "    </tr>\n",
              "    <tr>\n",
              "      <th>ArrivalDelayinMinutes</th>\n",
              "      <td>0.000396</td>\n",
              "      <td>0.004747</td>\n",
              "      <td>-0.012150</td>\n",
              "      <td>-0.005683</td>\n",
              "      <td>0.014701</td>\n",
              "      <td>-0.002426</td>\n",
              "      <td>-0.019095</td>\n",
              "      <td>-0.000864</td>\n",
              "      <td>-0.007984</td>\n",
              "      <td>0.005143</td>\n",
              "      <td>-0.032524</td>\n",
              "      <td>-0.021949</td>\n",
              "      <td>-0.029900</td>\n",
              "      <td>-0.030703</td>\n",
              "      <td>-0.035227</td>\n",
              "      <td>0.011843</td>\n",
              "      <td>-0.008542</td>\n",
              "      <td>-0.020369</td>\n",
              "      <td>-0.059196</td>\n",
              "      <td>-0.015774</td>\n",
              "      <td>0.965481</td>\n",
              "      <td>1.000000</td>\n",
              "      <td>-0.057582</td>\n",
              "    </tr>\n",
              "    <tr>\n",
              "      <th>satisfaction</th>\n",
              "      <td>0.012211</td>\n",
              "      <td>-0.187638</td>\n",
              "      <td>0.137207</td>\n",
              "      <td>-0.449000</td>\n",
              "      <td>-0.449321</td>\n",
              "      <td>0.298780</td>\n",
              "      <td>0.284245</td>\n",
              "      <td>-0.051601</td>\n",
              "      <td>0.171705</td>\n",
              "      <td>0.000682</td>\n",
              "      <td>0.209936</td>\n",
              "      <td>0.503557</td>\n",
              "      <td>0.349459</td>\n",
              "      <td>0.398059</td>\n",
              "      <td>0.322383</td>\n",
              "      <td>0.313131</td>\n",
              "      <td>0.247749</td>\n",
              "      <td>0.236174</td>\n",
              "      <td>0.244741</td>\n",
              "      <td>0.305198</td>\n",
              "      <td>-0.050494</td>\n",
              "      <td>-0.057582</td>\n",
              "      <td>1.000000</td>\n",
              "    </tr>\n",
              "  </tbody>\n",
              "</table>\n",
              "</div>\n",
              "      <button class=\"colab-df-convert\" onclick=\"convertToInteractive('df-e58f5e2c-3798-4df4-85fa-3ba9b26a76e4')\"\n",
              "              title=\"Convert this dataframe to an interactive table.\"\n",
              "              style=\"display:none;\">\n",
              "        \n",
              "  <svg xmlns=\"http://www.w3.org/2000/svg\" height=\"24px\"viewBox=\"0 0 24 24\"\n",
              "       width=\"24px\">\n",
              "    <path d=\"M0 0h24v24H0V0z\" fill=\"none\"/>\n",
              "    <path d=\"M18.56 5.44l.94 2.06.94-2.06 2.06-.94-2.06-.94-.94-2.06-.94 2.06-2.06.94zm-11 1L8.5 8.5l.94-2.06 2.06-.94-2.06-.94L8.5 2.5l-.94 2.06-2.06.94zm10 10l.94 2.06.94-2.06 2.06-.94-2.06-.94-.94-2.06-.94 2.06-2.06.94z\"/><path d=\"M17.41 7.96l-1.37-1.37c-.4-.4-.92-.59-1.43-.59-.52 0-1.04.2-1.43.59L10.3 9.45l-7.72 7.72c-.78.78-.78 2.05 0 2.83L4 21.41c.39.39.9.59 1.41.59.51 0 1.02-.2 1.41-.59l7.78-7.78 2.81-2.81c.8-.78.8-2.07 0-2.86zM5.41 20L4 18.59l7.72-7.72 1.47 1.35L5.41 20z\"/>\n",
              "  </svg>\n",
              "      </button>\n",
              "      \n",
              "  <style>\n",
              "    .colab-df-container {\n",
              "      display:flex;\n",
              "      flex-wrap:wrap;\n",
              "      gap: 12px;\n",
              "    }\n",
              "\n",
              "    .colab-df-convert {\n",
              "      background-color: #E8F0FE;\n",
              "      border: none;\n",
              "      border-radius: 50%;\n",
              "      cursor: pointer;\n",
              "      display: none;\n",
              "      fill: #1967D2;\n",
              "      height: 32px;\n",
              "      padding: 0 0 0 0;\n",
              "      width: 32px;\n",
              "    }\n",
              "\n",
              "    .colab-df-convert:hover {\n",
              "      background-color: #E2EBFA;\n",
              "      box-shadow: 0px 1px 2px rgba(60, 64, 67, 0.3), 0px 1px 3px 1px rgba(60, 64, 67, 0.15);\n",
              "      fill: #174EA6;\n",
              "    }\n",
              "\n",
              "    [theme=dark] .colab-df-convert {\n",
              "      background-color: #3B4455;\n",
              "      fill: #D2E3FC;\n",
              "    }\n",
              "\n",
              "    [theme=dark] .colab-df-convert:hover {\n",
              "      background-color: #434B5C;\n",
              "      box-shadow: 0px 1px 3px 1px rgba(0, 0, 0, 0.15);\n",
              "      filter: drop-shadow(0px 1px 2px rgba(0, 0, 0, 0.3));\n",
              "      fill: #FFFFFF;\n",
              "    }\n",
              "  </style>\n",
              "\n",
              "      <script>\n",
              "        const buttonEl =\n",
              "          document.querySelector('#df-e58f5e2c-3798-4df4-85fa-3ba9b26a76e4 button.colab-df-convert');\n",
              "        buttonEl.style.display =\n",
              "          google.colab.kernel.accessAllowed ? 'block' : 'none';\n",
              "\n",
              "        async function convertToInteractive(key) {\n",
              "          const element = document.querySelector('#df-e58f5e2c-3798-4df4-85fa-3ba9b26a76e4');\n",
              "          const dataTable =\n",
              "            await google.colab.kernel.invokeFunction('convertToInteractive',\n",
              "                                                     [key], {});\n",
              "          if (!dataTable) return;\n",
              "\n",
              "          const docLinkHtml = 'Like what you see? Visit the ' +\n",
              "            '<a target=\"_blank\" href=https://colab.research.google.com/notebooks/data_table.ipynb>data table notebook</a>'\n",
              "            + ' to learn more about interactive tables.';\n",
              "          element.innerHTML = '';\n",
              "          dataTable['output_type'] = 'display_data';\n",
              "          await google.colab.output.renderOutput(dataTable, element);\n",
              "          const docLink = document.createElement('div');\n",
              "          docLink.innerHTML = docLinkHtml;\n",
              "          element.appendChild(docLink);\n",
              "        }\n",
              "      </script>\n",
              "    </div>\n",
              "  </div>\n",
              "  "
            ],
            "text/plain": [
              "                                   Gender  ...  satisfaction\n",
              "Gender                           1.000000  ...      0.012211\n",
              "CustomerType                    -0.031732  ...     -0.187638\n",
              "Age                              0.008941  ...      0.137207\n",
              "TypeofTravel                     0.006909  ...     -0.449000\n",
              "Class                           -0.012870  ...     -0.449321\n",
              "FlightDistance                   0.005828  ...      0.298780\n",
              "Inflightwifiservice              0.008974  ...      0.284245\n",
              "Departure/Arrivaltimeconvenient  0.009142  ...     -0.051601\n",
              "EaseofOnlinebooking              0.006951  ...      0.171705\n",
              "Gatelocation                     0.000333  ...      0.000682\n",
              "Foodanddrink                     0.005772  ...      0.209936\n",
              "Onlineboarding                  -0.042260  ...      0.503557\n",
              "Seatcomfort                     -0.026502  ...      0.349459\n",
              "Inflightentertainment            0.006117  ...      0.398059\n",
              "On-boardservice                  0.008156  ...      0.322383\n",
              "Legroomservice                   0.031798  ...      0.313131\n",
              "Baggagehandling                  0.037391  ...      0.247749\n",
              "Checkinservice                   0.010563  ...      0.236174\n",
              "Inflightservice                  0.039410  ...      0.244741\n",
              "Cleanliness                      0.006505  ...      0.305198\n",
              "DepartureDelayinMinutes          0.002935  ...     -0.050494\n",
              "ArrivalDelayinMinutes            0.000396  ...     -0.057582\n",
              "satisfaction                     0.012211  ...      1.000000\n",
              "\n",
              "[23 rows x 23 columns]"
            ]
          },
          "execution_count": 18,
          "metadata": {},
          "output_type": "execute_result"
        }
      ],
      "source": [
        "df.corr()"
      ]
    },
    {
      "cell_type": "code",
      "execution_count": 25,
      "metadata": {
        "colab": {
          "base_uri": "https://localhost:8080/",
          "height": 768
        },
        "id": "mMrzJFZdOmvT",
        "outputId": "346bd76b-80bb-406f-8b85-5d129dce348d"
      },
      "outputs": [
        {
          "data": {
            "text/plain": [
              "<matplotlib.axes._subplots.AxesSubplot at 0x7f4bc5408a90>"
            ]
          },
          "execution_count": 25,
          "metadata": {},
          "output_type": "execute_result"
        },
        {
          "data": {
            "image/png": "[encoded data removed]",
            "text/plain": [
              "<Figure size 1152x720 with 2 Axes>"
            ]
          },
          "metadata": {
            "needs_background": "light"
          },
          "output_type": "display_data"
        }
      ],
      "source": [
        "plt.figure(figsize=(16,10))\n",
        "sns.heatmap(df.corr(),annot=True)"
      ]
    },
    {
      "cell_type": "markdown",
      "metadata": {
        "id": "eyvPEiUOOwwj"
      },
      "source": [
        "In the above heat map, the colors representing the two corresponding columns represents their correltion to each other. If the correlation is positively high the color becomes light while it becomes darker and darker as the correlation reduces"
      ]
    },
    {
      "cell_type": "code",
      "execution_count": 19,
      "metadata": {
        "colab": {
          "base_uri": "https://localhost:8080/",
          "height": 287
        },
        "id": "MZX_tM6qqnn4",
        "outputId": "0533ba36-cb82-4333-81f3-5d017add48b0"
      },
      "outputs": [
        {
          "data": {
            "text/html": [
              "\n",
              "  <div id=\"df-a675bfa6-daa4-41d3-a1e5-55076422067c\">\n",
              "    <div class=\"colab-df-container\">\n",
              "      <div>\n",
              "<style scoped>\n",
              "    .dataframe tbody tr th:only-of-type {\n",
              "        vertical-align: middle;\n",
              "    }\n",
              "\n",
              "    .dataframe tbody tr th {\n",
              "        vertical-align: top;\n",
              "    }\n",
              "\n",
              "    .dataframe thead th {\n",
              "        text-align: right;\n",
              "    }\n",
              "</style>\n",
              "<table border=\"1\" class=\"dataframe\">\n",
              "  <thead>\n",
              "    <tr style=\"text-align: right;\">\n",
              "      <th></th>\n",
              "      <th>Gender</th>\n",
              "      <th>CustomerType</th>\n",
              "      <th>Age</th>\n",
              "      <th>TypeofTravel</th>\n",
              "      <th>Class</th>\n",
              "      <th>FlightDistance</th>\n",
              "      <th>Inflightwifiservice</th>\n",
              "      <th>Departure/Arrivaltimeconvenient</th>\n",
              "      <th>EaseofOnlinebooking</th>\n",
              "      <th>Gatelocation</th>\n",
              "      <th>Foodanddrink</th>\n",
              "      <th>Onlineboarding</th>\n",
              "      <th>Seatcomfort</th>\n",
              "      <th>Inflightentertainment</th>\n",
              "      <th>On-boardservice</th>\n",
              "      <th>Legroomservice</th>\n",
              "      <th>Baggagehandling</th>\n",
              "      <th>Checkinservice</th>\n",
              "      <th>Inflightservice</th>\n",
              "      <th>Cleanliness</th>\n",
              "      <th>DepartureDelayinMinutes</th>\n",
              "      <th>ArrivalDelayinMinutes</th>\n",
              "      <th>satisfaction</th>\n",
              "    </tr>\n",
              "  </thead>\n",
              "  <tbody>\n",
              "    <tr>\n",
              "      <th>0</th>\n",
              "      <td>1</td>\n",
              "      <td>0</td>\n",
              "      <td>6</td>\n",
              "      <td>1</td>\n",
              "      <td>2</td>\n",
              "      <td>460</td>\n",
              "      <td>3</td>\n",
              "      <td>4</td>\n",
              "      <td>3</td>\n",
              "      <td>1</td>\n",
              "      <td>5</td>\n",
              "      <td>3</td>\n",
              "      <td>5</td>\n",
              "      <td>5</td>\n",
              "      <td>4</td>\n",
              "      <td>3</td>\n",
              "      <td>4</td>\n",
              "      <td>4</td>\n",
              "      <td>5</td>\n",
              "      <td>5</td>\n",
              "      <td>25</td>\n",
              "      <td>18.0</td>\n",
              "      <td>0</td>\n",
              "    </tr>\n",
              "    <tr>\n",
              "      <th>1</th>\n",
              "      <td>1</td>\n",
              "      <td>1</td>\n",
              "      <td>18</td>\n",
              "      <td>0</td>\n",
              "      <td>0</td>\n",
              "      <td>235</td>\n",
              "      <td>3</td>\n",
              "      <td>2</td>\n",
              "      <td>3</td>\n",
              "      <td>3</td>\n",
              "      <td>1</td>\n",
              "      <td>3</td>\n",
              "      <td>1</td>\n",
              "      <td>1</td>\n",
              "      <td>1</td>\n",
              "      <td>5</td>\n",
              "      <td>3</td>\n",
              "      <td>1</td>\n",
              "      <td>4</td>\n",
              "      <td>1</td>\n",
              "      <td>1</td>\n",
              "      <td>6.0</td>\n",
              "      <td>0</td>\n",
              "    </tr>\n",
              "    <tr>\n",
              "      <th>2</th>\n",
              "      <td>0</td>\n",
              "      <td>0</td>\n",
              "      <td>19</td>\n",
              "      <td>0</td>\n",
              "      <td>0</td>\n",
              "      <td>1142</td>\n",
              "      <td>2</td>\n",
              "      <td>2</td>\n",
              "      <td>2</td>\n",
              "      <td>2</td>\n",
              "      <td>5</td>\n",
              "      <td>5</td>\n",
              "      <td>5</td>\n",
              "      <td>5</td>\n",
              "      <td>4</td>\n",
              "      <td>3</td>\n",
              "      <td>4</td>\n",
              "      <td>4</td>\n",
              "      <td>4</td>\n",
              "      <td>5</td>\n",
              "      <td>0</td>\n",
              "      <td>0.0</td>\n",
              "      <td>1</td>\n",
              "    </tr>\n",
              "    <tr>\n",
              "      <th>3</th>\n",
              "      <td>0</td>\n",
              "      <td>0</td>\n",
              "      <td>18</td>\n",
              "      <td>0</td>\n",
              "      <td>0</td>\n",
              "      <td>562</td>\n",
              "      <td>2</td>\n",
              "      <td>5</td>\n",
              "      <td>5</td>\n",
              "      <td>5</td>\n",
              "      <td>2</td>\n",
              "      <td>2</td>\n",
              "      <td>2</td>\n",
              "      <td>2</td>\n",
              "      <td>2</td>\n",
              "      <td>5</td>\n",
              "      <td>3</td>\n",
              "      <td>1</td>\n",
              "      <td>4</td>\n",
              "      <td>2</td>\n",
              "      <td>11</td>\n",
              "      <td>9.0</td>\n",
              "      <td>0</td>\n",
              "    </tr>\n",
              "    <tr>\n",
              "      <th>4</th>\n",
              "      <td>1</td>\n",
              "      <td>0</td>\n",
              "      <td>54</td>\n",
              "      <td>0</td>\n",
              "      <td>0</td>\n",
              "      <td>214</td>\n",
              "      <td>3</td>\n",
              "      <td>3</td>\n",
              "      <td>3</td>\n",
              "      <td>3</td>\n",
              "      <td>4</td>\n",
              "      <td>5</td>\n",
              "      <td>5</td>\n",
              "      <td>3</td>\n",
              "      <td>3</td>\n",
              "      <td>4</td>\n",
              "      <td>4</td>\n",
              "      <td>3</td>\n",
              "      <td>3</td>\n",
              "      <td>3</td>\n",
              "      <td>0</td>\n",
              "      <td>0.0</td>\n",
              "      <td>1</td>\n",
              "    </tr>\n",
              "  </tbody>\n",
              "</table>\n",
              "</div>\n",
              "      <button class=\"colab-df-convert\" onclick=\"convertToInteractive('df-a675bfa6-daa4-41d3-a1e5-55076422067c')\"\n",
              "              title=\"Convert this dataframe to an interactive table.\"\n",
              "              style=\"display:none;\">\n",
              "        \n",
              "  <svg xmlns=\"http://www.w3.org/2000/svg\" height=\"24px\"viewBox=\"0 0 24 24\"\n",
              "       width=\"24px\">\n",
              "    <path d=\"M0 0h24v24H0V0z\" fill=\"none\"/>\n",
              "    <path d=\"M18.56 5.44l.94 2.06.94-2.06 2.06-.94-2.06-.94-.94-2.06-.94 2.06-2.06.94zm-11 1L8.5 8.5l.94-2.06 2.06-.94-2.06-.94L8.5 2.5l-.94 2.06-2.06.94zm10 10l.94 2.06.94-2.06 2.06-.94-2.06-.94-.94-2.06-.94 2.06-2.06.94z\"/><path d=\"M17.41 7.96l-1.37-1.37c-.4-.4-.92-.59-1.43-.59-.52 0-1.04.2-1.43.59L10.3 9.45l-7.72 7.72c-.78.78-.78 2.05 0 2.83L4 21.41c.39.39.9.59 1.41.59.51 0 1.02-.2 1.41-.59l7.78-7.78 2.81-2.81c.8-.78.8-2.07 0-2.86zM5.41 20L4 18.59l7.72-7.72 1.47 1.35L5.41 20z\"/>\n",
              "  </svg>\n",
              "      </button>\n",
              "      \n",
              "  <style>\n",
              "    .colab-df-container {\n",
              "      display:flex;\n",
              "      flex-wrap:wrap;\n",
              "      gap: 12px;\n",
              "    }\n",
              "\n",
              "    .colab-df-convert {\n",
              "      background-color: #E8F0FE;\n",
              "      border: none;\n",
              "      border-radius: 50%;\n",
              "      cursor: pointer;\n",
              "      display: none;\n",
              "      fill: #1967D2;\n",
              "      height: 32px;\n",
              "      padding: 0 0 0 0;\n",
              "      width: 32px;\n",
              "    }\n",
              "\n",
              "    .colab-df-convert:hover {\n",
              "      background-color: #E2EBFA;\n",
              "      box-shadow: 0px 1px 2px rgba(60, 64, 67, 0.3), 0px 1px 3px 1px rgba(60, 64, 67, 0.15);\n",
              "      fill: #174EA6;\n",
              "    }\n",
              "\n",
              "    [theme=dark] .colab-df-convert {\n",
              "      background-color: #3B4455;\n",
              "      fill: #D2E3FC;\n",
              "    }\n",
              "\n",
              "    [theme=dark] .colab-df-convert:hover {\n",
              "      background-color: #434B5C;\n",
              "      box-shadow: 0px 1px 3px 1px rgba(0, 0, 0, 0.15);\n",
              "      filter: drop-shadow(0px 1px 2px rgba(0, 0, 0, 0.3));\n",
              "      fill: #FFFFFF;\n",
              "    }\n",
              "  </style>\n",
              "\n",
              "      <script>\n",
              "        const buttonEl =\n",
              "          document.querySelector('#df-a675bfa6-daa4-41d3-a1e5-55076422067c button.colab-df-convert');\n",
              "        buttonEl.style.display =\n",
              "          google.colab.kernel.accessAllowed ? 'block' : 'none';\n",
              "\n",
              "        async function convertToInteractive(key) {\n",
              "          const element = document.querySelector('#df-a675bfa6-daa4-41d3-a1e5-55076422067c');\n",
              "          const dataTable =\n",
              "            await google.colab.kernel.invokeFunction('convertToInteractive',\n",
              "                                                     [key], {});\n",
              "          if (!dataTable) return;\n",
              "\n",
              "          const docLinkHtml = 'Like what you see? Visit the ' +\n",
              "            '<a target=\"_blank\" href=https://colab.research.google.com/notebooks/data_table.ipynb>data table notebook</a>'\n",
              "            + ' to learn more about interactive tables.';\n",
              "          element.innerHTML = '';\n",
              "          dataTable['output_type'] = 'display_data';\n",
              "          await google.colab.output.renderOutput(dataTable, element);\n",
              "          const docLink = document.createElement('div');\n",
              "          docLink.innerHTML = docLinkHtml;\n",
              "          element.appendChild(docLink);\n",
              "        }\n",
              "      </script>\n",
              "    </div>\n",
              "  </div>\n",
              "  "
            ],
            "text/plain": [
              "   Gender  CustomerType  ...  ArrivalDelayinMinutes  satisfaction\n",
              "0       1             0  ...                   18.0             0\n",
              "1       1             1  ...                    6.0             0\n",
              "2       0             0  ...                    0.0             1\n",
              "3       0             0  ...                    9.0             0\n",
              "4       1             0  ...                    0.0             1\n",
              "\n",
              "[5 rows x 23 columns]"
            ]
          },
          "execution_count": 19,
          "metadata": {},
          "output_type": "execute_result"
        }
      ],
      "source": [
        "df.head()"
      ]
    },
    {
      "cell_type": "markdown",
      "metadata": {
        "id": "XMtasn85RB2c"
      },
      "source": [
        "  ## Preprocessing and modeling"
      ]
    },
    {
      "cell_type": "code",
      "execution_count": 20,
      "metadata": {
        "id": "FW8p-vGjqrPX"
      },
      "outputs": [],
      "source": [
        "x = df.drop(['DepartureDelayinMinutes','ArrivalDelayinMinutes','satisfaction'], axis = 1)\n",
        "y = df['satisfaction']"
      ]
    },
    {
      "cell_type": "markdown",
      "metadata": {
        "id": "RqNnHeSzRDGD"
      },
      "source": [
        "Here x and y columns are divided such that x contains independant columns while y contains dependant column"
      ]
    },
    {
      "cell_type": "code",
      "execution_count": 21,
      "metadata": {
        "id": "zigQF6flrBe5"
      },
      "outputs": [],
      "source": [
        "x_train,x_test,y_train,y_test = train_test_split(x,y, test_size=0.3,random_state=1)"
      ]
    },
    {
      "cell_type": "markdown",
      "metadata": {
        "id": "0vG34u3kRe4M"
      },
      "source": [
        "dividing data stored in x and y into 2 parts each with ratio (7:3). In which, the larger ratio is for training while the rest of the smaller part is to check the accuracy."
      ]
    },
    {
      "cell_type": "code",
      "execution_count": 22,
      "metadata": {
        "id": "fOGybUXOrKTM"
      },
      "outputs": [],
      "source": [
        "logmodel = LogisticRegression()"
      ]
    },
    {
      "cell_type": "code",
      "execution_count": 26,
      "metadata": {
        "colab": {
          "base_uri": "https://localhost:8080/"
        },
        "id": "Bpy0M2-GrMFU",
        "outputId": "7b367f20-e51e-4bce-e6e4-d142b22f0c08"
      },
      "outputs": [
        {
          "data": {
            "text/plain": [
              "LogisticRegression()"
            ]
          },
          "execution_count": 26,
          "metadata": {},
          "output_type": "execute_result"
        }
      ],
      "source": [
        "logmodel.fit(x_train,y_train)"
      ]
    },
    {
      "cell_type": "code",
      "execution_count": 27,
      "metadata": {
        "id": "32puWLxtrO6n"
      },
      "outputs": [],
      "source": [
        "predictions = logmodel.predict(x_test)"
      ]
    },
    {
      "cell_type": "code",
      "execution_count": 28,
      "metadata": {
        "colab": {
          "base_uri": "https://localhost:8080/"
        },
        "id": "M4nn2pTkrfe8",
        "outputId": "224a03a5-fd71-44d6-c0cf-d952ecec111b"
      },
      "outputs": [
        {
          "name": "stdout",
          "output_type": "stream",
          "text": [
            "              precision    recall  f1-score   support\n",
            "\n",
            "           0       0.87      0.86      0.86     17692\n",
            "           1       0.81      0.82      0.82     13480\n",
            "\n",
            "    accuracy                           0.84     31172\n",
            "   macro avg       0.84      0.84      0.84     31172\n",
            "weighted avg       0.84      0.84      0.84     31172\n",
            "\n"
          ]
        }
      ],
      "source": [
        "print(classification_report(y_test,predictions))"
      ]
    },
    {
      "cell_type": "code",
      "execution_count": 29,
      "metadata": {
        "colab": {
          "base_uri": "https://localhost:8080/"
        },
        "id": "M2hEP4mxrkjs",
        "outputId": "a72b4ab0-b6cf-42af-cdc0-00233909650c"
      },
      "outputs": [
        {
          "data": {
            "text/plain": [
              "array([[15156,  2536],\n",
              "       [ 2365, 11115]])"
            ]
          },
          "execution_count": 29,
          "metadata": {},
          "output_type": "execute_result"
        }
      ],
      "source": [
        "confusion_matrix(y_test,predictions)"
      ]
    },
    {
      "cell_type": "markdown",
      "metadata": {
        "id": "Zbane9L7S5fs"
      },
      "source": [
        "From the confusion matrix we can observe that there are 15156 number of True Positive, 2536 number of False Positive, 2356 number of False Negative and 11115 number of True Negative based on the predicted values."
      ]
    },
    {
      "cell_type": "code",
      "execution_count": 30,
      "metadata": {
        "colab": {
          "base_uri": "https://localhost:8080/",
          "height": 313
        },
        "id": "eGeDzoVXsAJE",
        "outputId": "a659e89b-3743-41e9-a977-8501d57e2dca"
      },
      "outputs": [
        {
          "name": "stdout",
          "output_type": "stream",
          "text": [
            "ROC AUC Score : 0.8406066364049267\n"
          ]
        },
        {
          "data": {
            "image/png": "[encoded data removed]",
            "text/plain": [
              "<Figure size 432x288 with 1 Axes>"
            ]
          },
          "metadata": {
            "needs_background": "light"
          },
          "output_type": "display_data"
        }
      ],
      "source": [
        "auc = roc_auc_score(y_test,predictions)\n",
        "print(\"ROC AUC Score :\",auc)\n",
        "fpr,tpr,thresholds = roc_curve(y_test,predictions)\n",
        "plt.plot(fpr, tpr, color='blue', label='ROC')\n",
        "plt.xlabel('False Positive Rate')\n",
        "plt.ylabel('True Positive Rate')\n",
        "plt.title('ROC')\n",
        "plt.legend()\n",
        "plt.grid()\n",
        "plt.show()"
      ]
    },
    {
      "cell_type": "markdown",
      "metadata": {
        "id": "YEKhfS13Tcu5"
      },
      "source": [
        "From the above diagram, we can finf out that the predicted values are better and precise since the roc curve leans more towards the true positive rate."
      ]
    }
  ],
  "metadata": {
    "colab": {
      "name": "logistic.ipynb",
      "provenance": []
    },
    "kernelspec": {
      "display_name": "Python 3",
      "name": "python3"
    },
    "language_info": {
      "name": "python"
    }
  },
  "nbformat": 4,
  "nbformat_minor": 0
}
